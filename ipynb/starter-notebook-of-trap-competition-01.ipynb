{
 "cells": [
  {
   "cell_type": "markdown",
   "id": "e4cbe8c6",
   "metadata": {
    "papermill": {
     "duration": 0.012377,
     "end_time": "2025-03-02T05:18:20.191170",
     "exception": false,
     "start_time": "2025-03-02T05:18:20.178793",
     "status": "completed"
    },
    "tags": [],
    "vscode": {
     "languageId": "plaintext"
    }
   },
   "source": [
    "# traP Competition #01 (traP × 日経 Kaggle コンペティション) へようこそ！ 🗞️🙌"
   ]
  },
  {
   "cell_type": "markdown",
   "id": "0171ee67",
   "metadata": {
    "papermill": {
     "duration": 0.010867,
     "end_time": "2025-03-02T05:18:20.213876",
     "exception": false,
     "start_time": "2025-03-02T05:18:20.203009",
     "status": "completed"
    },
    "tags": []
   },
   "source": [
    "このコンペでは、GitHub レポジトリの\n",
    "- star\n",
    "- issue\n",
    "- pull request\n",
    "- commit\n",
    "などのデータから、**将来そのレポジトリがアクティブであるか？** を予測する精度を競います！\n",
    "\n",
    "このノートブックは Starter Notebook です。\n",
    "\n",
    "**このノートブックを一通り読んで実行すれば、ひとまずコンペには参加できるようになっているので、ぜひ最後まで読んでください！**"
   ]
  },
  {
   "cell_type": "markdown",
   "id": "d1275ce4",
   "metadata": {
    "papermill": {
     "duration": 0.011145,
     "end_time": "2025-03-02T05:18:20.236103",
     "exception": false,
     "start_time": "2025-03-02T05:18:20.224958",
     "status": "completed"
    },
    "tags": []
   },
   "source": [
    "## Table of Contents\n",
    "\n",
    "1. 最初に確認して欲しいこと\n",
    "2. データを読み込んでみよう\n",
    "3. 他のファイルからデータを取得してみよう\n",
    "4. 特徴量エンジニアリングをしよう\n",
    "5. モデルを訓練してみよう\n",
    "6. 予測・Submit してみよう\n",
    "7. What's Next ?"
   ]
  },
  {
   "cell_type": "markdown",
   "id": "3129c06a",
   "metadata": {
    "papermill": {
     "duration": 0.010772,
     "end_time": "2025-03-02T05:18:20.257937",
     "exception": false,
     "start_time": "2025-03-02T05:18:20.247165",
     "status": "completed"
    },
    "tags": []
   },
   "source": [
    "## 最初に確認して欲しいこと\n",
    "\n",
    "このノートブックを読み進める前に、まず最初にいくつかチェックして欲しい文章があります！\n",
    "\n",
    "\n",
    "まず必ず目を通して欲しいのがルールです: https://www.kaggle.com/competitions/tracon01/rules\n",
    "\n",
    "ルールに違反する行為があった場合、順位表からチームを削除せざるを得ないので、注意してください！\n",
    "(とくに Private Sharing をやってしまうチームがよくいます。気をつけましょう！)\n",
    "\n",
    "\n",
    "Overview にはコンペの概要が書いてあります。これを見ればコンペの概要が理解できるようになっています: https://www.kaggle.com/competitions/tracon01/overview\n",
    "\n",
    "\n",
    "続いて、Data には今回のコンペで使うデータについての説明が書いてあります。こちらに先に目を通しておくとこの Notebook も読みやすくなると思います: https://www.kaggle.com/competitions/tracon01/data"
   ]
  },
  {
   "cell_type": "markdown",
   "id": "dc694b34",
   "metadata": {
    "papermill": {
     "duration": 0.010724,
     "end_time": "2025-03-02T05:18:20.279646",
     "exception": false,
     "start_time": "2025-03-02T05:18:20.268922",
     "status": "completed"
    },
    "tags": []
   },
   "source": [
    "## データを読み込んでみよう\n",
    "\n",
    "上の文章たちを読んだら、まずは予測に使うデータを読み込んでチェックしてみましょう！\n",
    "\n",
    "今回提供されるファイルは以下の通りですが、\n",
    "\n",
    "- train.csv - 学習用データ\n",
    "- test.csv - テスト用データ\n",
    "- sample_submission.csv - 提出用サンプル\n",
    "- repo.csv - レポジトリのメタデータ\n",
    "- commits_full.csv - コミットのデータ\n",
    "- commits_sampled_10.csv - コミットのデータから 10% サンプリングしたデータ\n",
    "- commits_sampled_1.csv - コミットのデータから 1% サンプリングしたデータ\n",
    "- issues.csv - issue のデータ\n",
    "- pulls.csv - pull request のデータ\n",
    "\n",
    "\n",
    "train.csv / test.csv が今回学習・予測の対象にするレポジトリです。\n",
    "\n",
    "train.csv / test.csv の `repo_id` を key にして、repo.csv, commits_full.csv, issues.csv などから情報を取得できます。\n",
    "\n",
    "(Data にある画像も参照してください！)"
   ]
  },
  {
   "cell_type": "markdown",
   "id": "6844420f",
   "metadata": {
    "papermill": {
     "duration": 0.010539,
     "end_time": "2025-03-02T05:18:20.301529",
     "exception": false,
     "start_time": "2025-03-02T05:18:20.290990",
     "status": "completed"
    },
    "tags": []
   },
   "source": [
    "さて、まずは train.csv, test.csv をチェックしていきます。\n",
    "\n",
    "この .csv という拡張子は、Comma-Separated Values の略で、カンマで区切られたデータを表すファイル形式です。\n",
    "\n",
    "主には表形式のデータを扱う際に使われます。\n",
    "\n",
    "\n",
    "これを Python で読み込んでみましょう。\n",
    "Python で csvファイル (と表形式のデータ) を扱うときによく使われるのが pandas という名前のライブラリです。\n",
    "\n",
    "pandas を使って train.csv / test.csv を読み込んでみましょう。\n",
    "\n",
    "---\n",
    "\n",
    "📝 最近は polars という比較的高速とされているライブラリもとても人気があり、pandas のシェアを大きく塗り替えつつあります。が、新興のライブラリなのでまだインターネット上で情報が少ないことを考慮してここでは pandas を使います。ある程度プログラムを書いたり必要事項を検索して使うことに慣れている人は、polars を使ってみてください。"
   ]
  },
  {
   "cell_type": "code",
   "execution_count": 1,
   "id": "2c3b75d3",
   "metadata": {
    "execution": {
     "iopub.execute_input": "2025-03-02T05:18:20.324654Z",
     "iopub.status.busy": "2025-03-02T05:18:20.324270Z",
     "iopub.status.idle": "2025-03-02T05:18:21.240968Z",
     "shell.execute_reply": "2025-03-02T05:18:21.239792Z"
    },
    "papermill": {
     "duration": 0.930273,
     "end_time": "2025-03-02T05:18:21.242738",
     "exception": false,
     "start_time": "2025-03-02T05:18:20.312465",
     "status": "completed"
    },
    "tags": []
   },
   "outputs": [
    {
     "name": "stdout",
     "output_type": "stream",
     "text": [
      "読み込んだ pandas のバージョンは 2.2.3\n"
     ]
    }
   ],
   "source": [
    "# pandas というパッケージを読み込む.\n",
    "# このあと pandas の関数を非常にたくさん使うので、 `pd` という別名をつけておく\n",
    "import pandas as pd\n",
    "\n",
    "print(\"読み込んだ pandas のバージョンは\", pd.__version__)"
   ]
  },
  {
   "cell_type": "code",
   "execution_count": 2,
   "id": "d34be52f",
   "metadata": {
    "execution": {
     "iopub.execute_input": "2025-03-02T05:18:21.266702Z",
     "iopub.status.busy": "2025-03-02T05:18:21.266152Z",
     "iopub.status.idle": "2025-03-02T05:18:21.270158Z",
     "shell.execute_reply": "2025-03-02T05:18:21.269172Z"
    },
    "papermill": {
     "duration": 0.017644,
     "end_time": "2025-03-02T05:18:21.271771",
     "exception": false,
     "start_time": "2025-03-02T05:18:21.254127",
     "status": "completed"
    },
    "tags": []
   },
   "outputs": [],
   "source": [
    "# 何回もタイプするのは面倒なので、データのあるディレクトリを変数に格納しておく\n",
    "DATA_DIR = '/kaggle/input/tracon01/'"
   ]
  },
  {
   "cell_type": "code",
   "execution_count": 3,
   "id": "49f9314f",
   "metadata": {
    "execution": {
     "iopub.execute_input": "2025-03-02T05:18:21.295035Z",
     "iopub.status.busy": "2025-03-02T05:18:21.294706Z",
     "iopub.status.idle": "2025-03-02T05:18:21.333530Z",
     "shell.execute_reply": "2025-03-02T05:18:21.332540Z"
    },
    "papermill": {
     "duration": 0.052611,
     "end_time": "2025-03-02T05:18:21.335495",
     "exception": false,
     "start_time": "2025-03-02T05:18:21.282884",
     "status": "completed"
    },
    "tags": []
   },
   "outputs": [],
   "source": [
    "train  = pd.read_csv(DATA_DIR + 'train.csv')\n",
    "test = pd.read_csv(DATA_DIR + 'test.csv')"
   ]
  },
  {
   "cell_type": "markdown",
   "id": "afb9a08e",
   "metadata": {
    "papermill": {
     "duration": 0.011112,
     "end_time": "2025-03-02T05:18:21.357869",
     "exception": false,
     "start_time": "2025-03-02T05:18:21.346757",
     "status": "completed"
    },
    "tags": []
   },
   "source": [
    "`pandas` の `read_csv` 関数を使って、csvファイルを読み込むことができます。(`pd` として 読み込んだおかげで、`pandas.read_csv` でなく `pd.read_csv` と書くことができます)\n",
    "\n",
    "中身を確認してみます。\n",
    "\n",
    "---\n",
    "\n",
    "📝: Jupyter Notebook は最後に評価された式の値を表示するので、`df` とだけ書いてセルを実行すると　`df` の中身が表示されます。"
   ]
  },
  {
   "cell_type": "code",
   "execution_count": 4,
   "id": "2f0cea3c",
   "metadata": {
    "execution": {
     "iopub.execute_input": "2025-03-02T05:18:21.381119Z",
     "iopub.status.busy": "2025-03-02T05:18:21.380771Z",
     "iopub.status.idle": "2025-03-02T05:18:21.414201Z",
     "shell.execute_reply": "2025-03-02T05:18:21.413111Z"
    },
    "papermill": {
     "duration": 0.047111,
     "end_time": "2025-03-02T05:18:21.416115",
     "exception": false,
     "start_time": "2025-03-02T05:18:21.369004",
     "status": "completed"
    },
    "tags": []
   },
   "outputs": [
    {
     "data": {
      "text/html": [
       "<div>\n",
       "<style scoped>\n",
       "    .dataframe tbody tr th:only-of-type {\n",
       "        vertical-align: middle;\n",
       "    }\n",
       "\n",
       "    .dataframe tbody tr th {\n",
       "        vertical-align: top;\n",
       "    }\n",
       "\n",
       "    .dataframe thead th {\n",
       "        text-align: right;\n",
       "    }\n",
       "</style>\n",
       "<table border=\"1\" class=\"dataframe\">\n",
       "  <thead>\n",
       "    <tr style=\"text-align: right;\">\n",
       "      <th></th>\n",
       "      <th>repo_id</th>\n",
       "      <th>owner</th>\n",
       "      <th>repo</th>\n",
       "      <th>active</th>\n",
       "    </tr>\n",
       "  </thead>\n",
       "  <tbody>\n",
       "    <tr>\n",
       "      <th>0</th>\n",
       "      <td>543a877d-cb0c-4705-92f5-acaf04706cd8</td>\n",
       "      <td>dana-i2cat</td>\n",
       "      <td>opennaas</td>\n",
       "      <td>False</td>\n",
       "    </tr>\n",
       "    <tr>\n",
       "      <th>1</th>\n",
       "      <td>2c471519-698f-439f-a498-fc57d198a808</td>\n",
       "      <td>salesagility</td>\n",
       "      <td>SuiteCRM</td>\n",
       "      <td>True</td>\n",
       "    </tr>\n",
       "    <tr>\n",
       "      <th>2</th>\n",
       "      <td>9535bc28-6bca-4843-be86-b634c2282eb9</td>\n",
       "      <td>fake-name</td>\n",
       "      <td>ReadableWebProxy</td>\n",
       "      <td>False</td>\n",
       "    </tr>\n",
       "    <tr>\n",
       "      <th>3</th>\n",
       "      <td>c9417209-8ae3-4352-b41e-838e194be066</td>\n",
       "      <td>AOSParadox</td>\n",
       "      <td>android_kernel_oneplus_msm8974</td>\n",
       "      <td>False</td>\n",
       "    </tr>\n",
       "    <tr>\n",
       "      <th>4</th>\n",
       "      <td>0292a511-920f-483e-aeff-bf743c6a41b4</td>\n",
       "      <td>ipti</td>\n",
       "      <td>br.tag</td>\n",
       "      <td>True</td>\n",
       "    </tr>\n",
       "    <tr>\n",
       "      <th>...</th>\n",
       "      <td>...</td>\n",
       "      <td>...</td>\n",
       "      <td>...</td>\n",
       "      <td>...</td>\n",
       "    </tr>\n",
       "    <tr>\n",
       "      <th>3678</th>\n",
       "      <td>8f53ae54-82a8-4674-994a-01173382734a</td>\n",
       "      <td>qudou</td>\n",
       "      <td>xmlplus</td>\n",
       "      <td>False</td>\n",
       "    </tr>\n",
       "    <tr>\n",
       "      <th>3679</th>\n",
       "      <td>408a5695-2023-4131-a7a8-d90422840330</td>\n",
       "      <td>midgen</td>\n",
       "      <td>cashgenUE</td>\n",
       "      <td>False</td>\n",
       "    </tr>\n",
       "    <tr>\n",
       "      <th>3680</th>\n",
       "      <td>187c0179-23d2-49de-bb29-867220688a48</td>\n",
       "      <td>FCP-INDI</td>\n",
       "      <td>C-PAC</td>\n",
       "      <td>True</td>\n",
       "    </tr>\n",
       "    <tr>\n",
       "      <th>3681</th>\n",
       "      <td>f22e99d7-7939-4a7f-8338-54ef894d5c1b</td>\n",
       "      <td>estafette</td>\n",
       "      <td>estafette-ci-builder</td>\n",
       "      <td>False</td>\n",
       "    </tr>\n",
       "    <tr>\n",
       "      <th>3682</th>\n",
       "      <td>c7765d85-0b95-4806-9554-9665d4465c9a</td>\n",
       "      <td>xmendez</td>\n",
       "      <td>wfuzz</td>\n",
       "      <td>False</td>\n",
       "    </tr>\n",
       "  </tbody>\n",
       "</table>\n",
       "<p>3683 rows × 4 columns</p>\n",
       "</div>"
      ],
      "text/plain": [
       "                                   repo_id         owner  \\\n",
       "0     543a877d-cb0c-4705-92f5-acaf04706cd8    dana-i2cat   \n",
       "1     2c471519-698f-439f-a498-fc57d198a808  salesagility   \n",
       "2     9535bc28-6bca-4843-be86-b634c2282eb9     fake-name   \n",
       "3     c9417209-8ae3-4352-b41e-838e194be066    AOSParadox   \n",
       "4     0292a511-920f-483e-aeff-bf743c6a41b4          ipti   \n",
       "...                                    ...           ...   \n",
       "3678  8f53ae54-82a8-4674-994a-01173382734a         qudou   \n",
       "3679  408a5695-2023-4131-a7a8-d90422840330        midgen   \n",
       "3680  187c0179-23d2-49de-bb29-867220688a48      FCP-INDI   \n",
       "3681  f22e99d7-7939-4a7f-8338-54ef894d5c1b     estafette   \n",
       "3682  c7765d85-0b95-4806-9554-9665d4465c9a       xmendez   \n",
       "\n",
       "                                repo  active  \n",
       "0                           opennaas   False  \n",
       "1                           SuiteCRM    True  \n",
       "2                   ReadableWebProxy   False  \n",
       "3     android_kernel_oneplus_msm8974   False  \n",
       "4                             br.tag    True  \n",
       "...                              ...     ...  \n",
       "3678                         xmlplus   False  \n",
       "3679                       cashgenUE   False  \n",
       "3680                           C-PAC    True  \n",
       "3681            estafette-ci-builder   False  \n",
       "3682                           wfuzz   False  \n",
       "\n",
       "[3683 rows x 4 columns]"
      ]
     },
     "execution_count": 4,
     "metadata": {},
     "output_type": "execute_result"
    }
   ],
   "source": [
    "train"
   ]
  },
  {
   "cell_type": "code",
   "execution_count": 5,
   "id": "7e0fc6bf",
   "metadata": {
    "execution": {
     "iopub.execute_input": "2025-03-02T05:18:21.441201Z",
     "iopub.status.busy": "2025-03-02T05:18:21.440859Z",
     "iopub.status.idle": "2025-03-02T05:18:21.451470Z",
     "shell.execute_reply": "2025-03-02T05:18:21.450345Z"
    },
    "papermill": {
     "duration": 0.025011,
     "end_time": "2025-03-02T05:18:21.453215",
     "exception": false,
     "start_time": "2025-03-02T05:18:21.428204",
     "status": "completed"
    },
    "tags": []
   },
   "outputs": [
    {
     "data": {
      "text/html": [
       "<div>\n",
       "<style scoped>\n",
       "    .dataframe tbody tr th:only-of-type {\n",
       "        vertical-align: middle;\n",
       "    }\n",
       "\n",
       "    .dataframe tbody tr th {\n",
       "        vertical-align: top;\n",
       "    }\n",
       "\n",
       "    .dataframe thead th {\n",
       "        text-align: right;\n",
       "    }\n",
       "</style>\n",
       "<table border=\"1\" class=\"dataframe\">\n",
       "  <thead>\n",
       "    <tr style=\"text-align: right;\">\n",
       "      <th></th>\n",
       "      <th>repo_id</th>\n",
       "      <th>owner</th>\n",
       "      <th>repo</th>\n",
       "    </tr>\n",
       "  </thead>\n",
       "  <tbody>\n",
       "    <tr>\n",
       "      <th>0</th>\n",
       "      <td>aae6372a-c92c-477c-b28f-d5979d2d5246</td>\n",
       "      <td>gurugio</td>\n",
       "      <td>lowlevelprogramming-university</td>\n",
       "    </tr>\n",
       "    <tr>\n",
       "      <th>1</th>\n",
       "      <td>424e6ca9-cd93-4ddc-a4ff-c161be69ac77</td>\n",
       "      <td>pgRouting</td>\n",
       "      <td>pgrouting</td>\n",
       "    </tr>\n",
       "    <tr>\n",
       "      <th>2</th>\n",
       "      <td>bbfad893-9643-4b5c-9ac6-5eab319d64e4</td>\n",
       "      <td>tensorflow</td>\n",
       "      <td>tensorflow</td>\n",
       "    </tr>\n",
       "    <tr>\n",
       "      <th>3</th>\n",
       "      <td>494417c4-ba3f-4c9e-878e-aca1b2fb37d0</td>\n",
       "      <td>sztupy</td>\n",
       "      <td>samsung-kernel-herring</td>\n",
       "    </tr>\n",
       "    <tr>\n",
       "      <th>4</th>\n",
       "      <td>e92905aa-bdd2-4cd9-b67b-1192d3ee620e</td>\n",
       "      <td>eliotsykes</td>\n",
       "      <td>real-world-rails</td>\n",
       "    </tr>\n",
       "    <tr>\n",
       "      <th>...</th>\n",
       "      <td>...</td>\n",
       "      <td>...</td>\n",
       "      <td>...</td>\n",
       "    </tr>\n",
       "    <tr>\n",
       "      <th>1810</th>\n",
       "      <td>2b671097-3b9b-4d61-bf48-44d0db76ef1d</td>\n",
       "      <td>Beaconstac</td>\n",
       "      <td>Android-SDK</td>\n",
       "    </tr>\n",
       "    <tr>\n",
       "      <th>1811</th>\n",
       "      <td>0e305ada-9e27-4d9b-9bbc-1f46db8db86b</td>\n",
       "      <td>NahomAgidew</td>\n",
       "      <td>eCommerce</td>\n",
       "    </tr>\n",
       "    <tr>\n",
       "      <th>1812</th>\n",
       "      <td>a00999a4-a1bb-4df0-8066-361de6002ff8</td>\n",
       "      <td>iolevel</td>\n",
       "      <td>peachpie-samples</td>\n",
       "    </tr>\n",
       "    <tr>\n",
       "      <th>1813</th>\n",
       "      <td>6791bcd6-e573-4c77-b6c0-e9bef4167c3c</td>\n",
       "      <td>fracpete</td>\n",
       "      <td>multisearch-weka-package</td>\n",
       "    </tr>\n",
       "    <tr>\n",
       "      <th>1814</th>\n",
       "      <td>59bd1314-b5f4-4d01-846b-28c8c546f78e</td>\n",
       "      <td>battle-for-wesnoth</td>\n",
       "      <td>svn</td>\n",
       "    </tr>\n",
       "  </tbody>\n",
       "</table>\n",
       "<p>1815 rows × 3 columns</p>\n",
       "</div>"
      ],
      "text/plain": [
       "                                   repo_id               owner  \\\n",
       "0     aae6372a-c92c-477c-b28f-d5979d2d5246             gurugio   \n",
       "1     424e6ca9-cd93-4ddc-a4ff-c161be69ac77           pgRouting   \n",
       "2     bbfad893-9643-4b5c-9ac6-5eab319d64e4          tensorflow   \n",
       "3     494417c4-ba3f-4c9e-878e-aca1b2fb37d0              sztupy   \n",
       "4     e92905aa-bdd2-4cd9-b67b-1192d3ee620e          eliotsykes   \n",
       "...                                    ...                 ...   \n",
       "1810  2b671097-3b9b-4d61-bf48-44d0db76ef1d          Beaconstac   \n",
       "1811  0e305ada-9e27-4d9b-9bbc-1f46db8db86b         NahomAgidew   \n",
       "1812  a00999a4-a1bb-4df0-8066-361de6002ff8             iolevel   \n",
       "1813  6791bcd6-e573-4c77-b6c0-e9bef4167c3c            fracpete   \n",
       "1814  59bd1314-b5f4-4d01-846b-28c8c546f78e  battle-for-wesnoth   \n",
       "\n",
       "                                repo  \n",
       "0     lowlevelprogramming-university  \n",
       "1                          pgrouting  \n",
       "2                         tensorflow  \n",
       "3             samsung-kernel-herring  \n",
       "4                   real-world-rails  \n",
       "...                              ...  \n",
       "1810                     Android-SDK  \n",
       "1811                       eCommerce  \n",
       "1812                peachpie-samples  \n",
       "1813        multisearch-weka-package  \n",
       "1814                             svn  \n",
       "\n",
       "[1815 rows x 3 columns]"
      ]
     },
     "execution_count": 5,
     "metadata": {},
     "output_type": "execute_result"
    }
   ],
   "source": [
    "test"
   ]
  },
  {
   "cell_type": "markdown",
   "id": "aee6156a",
   "metadata": {
    "papermill": {
     "duration": 0.011041,
     "end_time": "2025-03-02T05:18:21.476322",
     "exception": false,
     "start_time": "2025-03-02T05:18:21.465281",
     "status": "completed"
    },
    "tags": []
   },
   "source": [
    "このように表のデータが `train`, `test` として読み込まれました。\n",
    "\n",
    "まずはこれらの中身をきちんと確認しましょう。"
   ]
  },
  {
   "cell_type": "code",
   "execution_count": 6,
   "id": "28cae6da",
   "metadata": {
    "execution": {
     "iopub.execute_input": "2025-03-02T05:18:21.500082Z",
     "iopub.status.busy": "2025-03-02T05:18:21.499763Z",
     "iopub.status.idle": "2025-03-02T05:18:21.504595Z",
     "shell.execute_reply": "2025-03-02T05:18:21.503687Z"
    },
    "papermill": {
     "duration": 0.018432,
     "end_time": "2025-03-02T05:18:21.506062",
     "exception": false,
     "start_time": "2025-03-02T05:18:21.487630",
     "status": "completed"
    },
    "tags": []
   },
   "outputs": [
    {
     "name": "stdout",
     "output_type": "stream",
     "text": [
      "<class 'pandas.core.frame.DataFrame'>\n",
      "<class 'pandas.core.frame.DataFrame'>\n"
     ]
    }
   ],
   "source": [
    "print(type(train))\n",
    "print(type(test))"
   ]
  },
  {
   "cell_type": "markdown",
   "id": "98a5f4ea",
   "metadata": {
    "papermill": {
     "duration": 0.011129,
     "end_time": "2025-03-02T05:18:21.528818",
     "exception": false,
     "start_time": "2025-03-02T05:18:21.517689",
     "status": "completed"
    },
    "tags": []
   },
   "source": [
    "`train`, `test` の中身は `DataFrame` という型のオブジェクトでした。\n",
    "\n",
    "\n",
    "これは pandas で表形式のデータセットを扱う際に使われるもので、このオブジェクトには様々な便利なメソッド・プロパティがあります。\n",
    "\n",
    "まずは一番基本的な情報である、そのサイズ: 何行何列のデータなのか？を確認してみます。"
   ]
  },
  {
   "cell_type": "code",
   "execution_count": 7,
   "id": "836c8782",
   "metadata": {
    "execution": {
     "iopub.execute_input": "2025-03-02T05:18:21.552783Z",
     "iopub.status.busy": "2025-03-02T05:18:21.552388Z",
     "iopub.status.idle": "2025-03-02T05:18:21.558154Z",
     "shell.execute_reply": "2025-03-02T05:18:21.557152Z"
    },
    "papermill": {
     "duration": 0.019556,
     "end_time": "2025-03-02T05:18:21.559757",
     "exception": false,
     "start_time": "2025-03-02T05:18:21.540201",
     "status": "completed"
    },
    "tags": []
   },
   "outputs": [
    {
     "name": "stdout",
     "output_type": "stream",
     "text": [
      "train shape: (3683, 4)\n",
      "test shape: (1815, 3)\n"
     ]
    }
   ],
   "source": [
    "# train と test のデータの形を確認してみる\n",
    "print('train shape:', train.shape)\n",
    "print('test shape:', test.shape)"
   ]
  },
  {
   "cell_type": "markdown",
   "id": "c29a8629",
   "metadata": {
    "papermill": {
     "duration": 0.011239,
     "end_time": "2025-03-02T05:18:21.582675",
     "exception": false,
     "start_time": "2025-03-02T05:18:21.571436",
     "status": "completed"
    },
    "tags": []
   },
   "source": [
    "train は 3700行くらいで 4列あり, test は 1800行くらいで 3列ありました。\n",
    "\n",
    "次に、各列の情報を確認してみましょう。"
   ]
  },
  {
   "cell_type": "code",
   "execution_count": 8,
   "id": "02e86a72",
   "metadata": {
    "execution": {
     "iopub.execute_input": "2025-03-02T05:18:21.607852Z",
     "iopub.status.busy": "2025-03-02T05:18:21.607489Z",
     "iopub.status.idle": "2025-03-02T05:18:21.635022Z",
     "shell.execute_reply": "2025-03-02T05:18:21.634006Z"
    },
    "papermill": {
     "duration": 0.041625,
     "end_time": "2025-03-02T05:18:21.636693",
     "exception": false,
     "start_time": "2025-03-02T05:18:21.595068",
     "status": "completed"
    },
    "tags": []
   },
   "outputs": [
    {
     "data": {
      "text/html": [
       "<div>\n",
       "<style scoped>\n",
       "    .dataframe tbody tr th:only-of-type {\n",
       "        vertical-align: middle;\n",
       "    }\n",
       "\n",
       "    .dataframe tbody tr th {\n",
       "        vertical-align: top;\n",
       "    }\n",
       "\n",
       "    .dataframe thead th {\n",
       "        text-align: right;\n",
       "    }\n",
       "</style>\n",
       "<table border=\"1\" class=\"dataframe\">\n",
       "  <thead>\n",
       "    <tr style=\"text-align: right;\">\n",
       "      <th></th>\n",
       "      <th>repo_id</th>\n",
       "      <th>owner</th>\n",
       "      <th>repo</th>\n",
       "      <th>active</th>\n",
       "    </tr>\n",
       "  </thead>\n",
       "  <tbody>\n",
       "    <tr>\n",
       "      <th>count</th>\n",
       "      <td>3683</td>\n",
       "      <td>3683</td>\n",
       "      <td>3683</td>\n",
       "      <td>3683</td>\n",
       "    </tr>\n",
       "    <tr>\n",
       "      <th>unique</th>\n",
       "      <td>3683</td>\n",
       "      <td>3346</td>\n",
       "      <td>3499</td>\n",
       "      <td>2</td>\n",
       "    </tr>\n",
       "    <tr>\n",
       "      <th>top</th>\n",
       "      <td>543a877d-cb0c-4705-92f5-acaf04706cd8</td>\n",
       "      <td>CyanogenMod</td>\n",
       "      <td>dotfiles</td>\n",
       "      <td>False</td>\n",
       "    </tr>\n",
       "    <tr>\n",
       "      <th>freq</th>\n",
       "      <td>1</td>\n",
       "      <td>31</td>\n",
       "      <td>10</td>\n",
       "      <td>2698</td>\n",
       "    </tr>\n",
       "  </tbody>\n",
       "</table>\n",
       "</div>"
      ],
      "text/plain": [
       "                                     repo_id        owner      repo active\n",
       "count                                   3683         3683      3683   3683\n",
       "unique                                  3683         3346      3499      2\n",
       "top     543a877d-cb0c-4705-92f5-acaf04706cd8  CyanogenMod  dotfiles  False\n",
       "freq                                       1           31        10   2698"
      ]
     },
     "execution_count": 8,
     "metadata": {},
     "output_type": "execute_result"
    }
   ],
   "source": [
    "train.describe()"
   ]
  },
  {
   "cell_type": "code",
   "execution_count": 9,
   "id": "51c77206",
   "metadata": {
    "execution": {
     "iopub.execute_input": "2025-03-02T05:18:21.661521Z",
     "iopub.status.busy": "2025-03-02T05:18:21.661144Z",
     "iopub.status.idle": "2025-03-02T05:18:21.676901Z",
     "shell.execute_reply": "2025-03-02T05:18:21.675957Z"
    },
    "papermill": {
     "duration": 0.03009,
     "end_time": "2025-03-02T05:18:21.678628",
     "exception": false,
     "start_time": "2025-03-02T05:18:21.648538",
     "status": "completed"
    },
    "tags": []
   },
   "outputs": [
    {
     "data": {
      "text/html": [
       "<div>\n",
       "<style scoped>\n",
       "    .dataframe tbody tr th:only-of-type {\n",
       "        vertical-align: middle;\n",
       "    }\n",
       "\n",
       "    .dataframe tbody tr th {\n",
       "        vertical-align: top;\n",
       "    }\n",
       "\n",
       "    .dataframe thead th {\n",
       "        text-align: right;\n",
       "    }\n",
       "</style>\n",
       "<table border=\"1\" class=\"dataframe\">\n",
       "  <thead>\n",
       "    <tr style=\"text-align: right;\">\n",
       "      <th></th>\n",
       "      <th>repo_id</th>\n",
       "      <th>owner</th>\n",
       "      <th>repo</th>\n",
       "    </tr>\n",
       "  </thead>\n",
       "  <tbody>\n",
       "    <tr>\n",
       "      <th>count</th>\n",
       "      <td>1815</td>\n",
       "      <td>1815</td>\n",
       "      <td>1815</td>\n",
       "    </tr>\n",
       "    <tr>\n",
       "      <th>unique</th>\n",
       "      <td>1815</td>\n",
       "      <td>1710</td>\n",
       "      <td>1762</td>\n",
       "    </tr>\n",
       "    <tr>\n",
       "      <th>top</th>\n",
       "      <td>aae6372a-c92c-477c-b28f-d5979d2d5246</td>\n",
       "      <td>CyanogenMod</td>\n",
       "      <td>dotfiles</td>\n",
       "    </tr>\n",
       "    <tr>\n",
       "      <th>freq</th>\n",
       "      <td>1</td>\n",
       "      <td>11</td>\n",
       "      <td>6</td>\n",
       "    </tr>\n",
       "  </tbody>\n",
       "</table>\n",
       "</div>"
      ],
      "text/plain": [
       "                                     repo_id        owner      repo\n",
       "count                                   1815         1815      1815\n",
       "unique                                  1815         1710      1762\n",
       "top     aae6372a-c92c-477c-b28f-d5979d2d5246  CyanogenMod  dotfiles\n",
       "freq                                       1           11         6"
      ]
     },
     "execution_count": 9,
     "metadata": {},
     "output_type": "execute_result"
    }
   ],
   "source": [
    "test.describe()"
   ]
  },
  {
   "cell_type": "markdown",
   "id": "d9796461",
   "metadata": {
    "papermill": {
     "duration": 0.011655,
     "end_time": "2025-03-02T05:18:21.702340",
     "exception": false,
     "start_time": "2025-03-02T05:18:21.690685",
     "status": "completed"
    },
    "tags": []
   },
   "source": [
    "`describe` メソッドを使うと、各列について\n",
    "- その列のデータの個数\n",
    "- ユニークな値の個数\n",
    "- 最も多い値\n",
    "- 最も多い値の個数\n",
    "を求めてくれます。この結果を見ると、\n",
    "\n",
    "- CyanogenMod という人 or Organization のレポジトリが最も多い\n",
    "- dotfiles という名前のレポジトリが最も多い\n",
    "\n",
    "などがわかります。dotfiles は確かに多そうですね。"
   ]
  },
  {
   "cell_type": "markdown",
   "id": "9721f6e3",
   "metadata": {
    "papermill": {
     "duration": 0.011697,
     "end_time": "2025-03-02T05:18:21.726037",
     "exception": false,
     "start_time": "2025-03-02T05:18:21.714340",
     "status": "completed"
    },
    "tags": []
   },
   "source": [
    "続いて、今回のコンペで予測の対象になっている train.csv の active という列についても確認してみましょう。"
   ]
  },
  {
   "cell_type": "code",
   "execution_count": 10,
   "id": "5dedc108",
   "metadata": {
    "execution": {
     "iopub.execute_input": "2025-03-02T05:18:21.751419Z",
     "iopub.status.busy": "2025-03-02T05:18:21.751042Z",
     "iopub.status.idle": "2025-03-02T05:18:21.757863Z",
     "shell.execute_reply": "2025-03-02T05:18:21.756958Z"
    },
    "papermill": {
     "duration": 0.021277,
     "end_time": "2025-03-02T05:18:21.759293",
     "exception": false,
     "start_time": "2025-03-02T05:18:21.738016",
     "status": "completed"
    },
    "tags": []
   },
   "outputs": [
    {
     "data": {
      "text/plain": [
       "active\n",
       "False    2698\n",
       "True      985\n",
       "Name: count, dtype: int64"
      ]
     },
     "execution_count": 10,
     "metadata": {},
     "output_type": "execute_result"
    }
   ],
   "source": [
    "train['active'].value_counts()"
   ]
  },
  {
   "cell_type": "markdown",
   "id": "e0919512",
   "metadata": {
    "papermill": {
     "duration": 0.011757,
     "end_time": "2025-03-02T05:18:21.783306",
     "exception": false,
     "start_time": "2025-03-02T05:18:21.771549",
     "status": "completed"
    },
    "tags": []
   },
   "source": [
    "`df[col]` という形で列を取り出すことができます。そして、列 (これは `Series` という型のオブジェクトです) に対して `value_counts` メソッドを使うと、その列に含まれる各値の個数を調べることができます。\n",
    "\n",
    "これを見ると、大体 1000件くらいのレポジトリが active で、それ以外は inactive であることがわかります。"
   ]
  },
  {
   "cell_type": "markdown",
   "id": "6092ec98",
   "metadata": {
    "papermill": {
     "duration": 0.011806,
     "end_time": "2025-03-02T05:18:21.807300",
     "exception": false,
     "start_time": "2025-03-02T05:18:21.795494",
     "status": "completed"
    },
    "tags": []
   },
   "source": [
    "## 他のファイルからデータを取得してみよう\n",
    "\n",
    "ところで今回のデータはでは train/test.csv にはこれ以外に大したデータは入っておらず、これはその他のファイルからデータをとってくるために使います。\n",
    "\n",
    "今回は `repo.csv` を使いましょう。ここには各レポジトリの star数と fileの情報が入っています。\n",
    "\n",
    "まずはこれを同様に読み込んでみます。(10秒くらいかかります)"
   ]
  },
  {
   "cell_type": "code",
   "execution_count": 11,
   "id": "ea4243fe",
   "metadata": {
    "execution": {
     "iopub.execute_input": "2025-03-02T05:18:21.832700Z",
     "iopub.status.busy": "2025-03-02T05:18:21.832312Z",
     "iopub.status.idle": "2025-03-02T05:18:52.661106Z",
     "shell.execute_reply": "2025-03-02T05:18:52.660030Z"
    },
    "papermill": {
     "duration": 30.843806,
     "end_time": "2025-03-02T05:18:52.663108",
     "exception": false,
     "start_time": "2025-03-02T05:18:21.819302",
     "status": "completed"
    },
    "tags": []
   },
   "outputs": [],
   "source": [
    "repo = pd.read_csv(DATA_DIR + 'repo.csv')"
   ]
  },
  {
   "cell_type": "markdown",
   "id": "a50f182c",
   "metadata": {
    "papermill": {
     "duration": 0.011639,
     "end_time": "2025-03-02T05:18:52.687293",
     "exception": false,
     "start_time": "2025-03-02T05:18:52.675654",
     "status": "completed"
    },
    "tags": []
   },
   "source": [
    "これの中身は、"
   ]
  },
  {
   "cell_type": "code",
   "execution_count": 12,
   "id": "223f3ed5",
   "metadata": {
    "execution": {
     "iopub.execute_input": "2025-03-02T05:18:52.712396Z",
     "iopub.status.busy": "2025-03-02T05:18:52.712079Z",
     "iopub.status.idle": "2025-03-02T05:18:52.732742Z",
     "shell.execute_reply": "2025-03-02T05:18:52.731785Z"
    },
    "papermill": {
     "duration": 0.034994,
     "end_time": "2025-03-02T05:18:52.734257",
     "exception": false,
     "start_time": "2025-03-02T05:18:52.699263",
     "status": "completed"
    },
    "tags": []
   },
   "outputs": [
    {
     "data": {
      "text/html": [
       "<div>\n",
       "<style scoped>\n",
       "    .dataframe tbody tr th:only-of-type {\n",
       "        vertical-align: middle;\n",
       "    }\n",
       "\n",
       "    .dataframe tbody tr th {\n",
       "        vertical-align: top;\n",
       "    }\n",
       "\n",
       "    .dataframe thead th {\n",
       "        text-align: right;\n",
       "    }\n",
       "</style>\n",
       "<table border=\"1\" class=\"dataframe\">\n",
       "  <thead>\n",
       "    <tr style=\"text-align: right;\">\n",
       "      <th></th>\n",
       "      <th>repo_id</th>\n",
       "      <th>stars</th>\n",
       "      <th>files</th>\n",
       "    </tr>\n",
       "  </thead>\n",
       "  <tbody>\n",
       "    <tr>\n",
       "      <th>0</th>\n",
       "      <td>989d25c5-ab17-43e8-a046-814b44f4f3f7</td>\n",
       "      <td>[{'created_at': '2015-12-21T20:24:11+00:00'}, ...</td>\n",
       "      <td>[{'name': '.gitignore', 'size': 387}, {'name':...</td>\n",
       "    </tr>\n",
       "    <tr>\n",
       "      <th>1</th>\n",
       "      <td>e9dc25f7-e8e0-48fb-84a0-cbba445398f7</td>\n",
       "      <td>[{'created_at': '2016-08-19T06:40:26+00:00'}, ...</td>\n",
       "      <td>[{'name': '.bowerrc', 'size': 59}, {'name': '....</td>\n",
       "    </tr>\n",
       "    <tr>\n",
       "      <th>2</th>\n",
       "      <td>7e74d90d-30a1-4cba-bf36-a365991e7f04</td>\n",
       "      <td>[{'created_at': '2016-04-11T18:36:21+00:00'}, ...</td>\n",
       "      <td>[{'name': '.gitmodules', 'size': 2187611}, {'n...</td>\n",
       "    </tr>\n",
       "    <tr>\n",
       "      <th>3</th>\n",
       "      <td>f9e289cd-cba2-4f65-9626-923fcfe6c1cf</td>\n",
       "      <td>[{'created_at': '2016-04-19T10:41:23+00:00'}, ...</td>\n",
       "      <td>[{'name': '.codeclimate.yml', 'size': 340}, {'...</td>\n",
       "    </tr>\n",
       "    <tr>\n",
       "      <th>4</th>\n",
       "      <td>ebac9dab-958f-4ac7-8801-114c41c0b27d</td>\n",
       "      <td>[{'created_at': '2017-07-26T20:00:34+00:00'}, ...</td>\n",
       "      <td>[{'name': '.gitignore', 'size': 881}, {'name':...</td>\n",
       "    </tr>\n",
       "    <tr>\n",
       "      <th>...</th>\n",
       "      <td>...</td>\n",
       "      <td>...</td>\n",
       "      <td>...</td>\n",
       "    </tr>\n",
       "    <tr>\n",
       "      <th>5493</th>\n",
       "      <td>940dcbbb-9cac-4412-8cb6-b237d76845fb</td>\n",
       "      <td>[{'created_at': '2013-08-06T17:39:33+00:00'}, ...</td>\n",
       "      <td>[{'name': '.gitignore', 'size': 367}, {'name':...</td>\n",
       "    </tr>\n",
       "    <tr>\n",
       "      <th>5494</th>\n",
       "      <td>f536813a-9d5f-414f-9e0f-dda1e58188f5</td>\n",
       "      <td>[{'created_at': '2013-05-22T16:05:26+00:00'}, ...</td>\n",
       "      <td>[{'name': '.editorconfig', 'size': 97}, {'name...</td>\n",
       "    </tr>\n",
       "    <tr>\n",
       "      <th>5495</th>\n",
       "      <td>3d38df23-d225-4254-a2e6-e1a4d0fd4152</td>\n",
       "      <td>[{'created_at': '2012-05-14T11:20:55+00:00'}, ...</td>\n",
       "      <td>[{'name': '.gitattributes', 'size': 534}, {'na...</td>\n",
       "    </tr>\n",
       "    <tr>\n",
       "      <th>5496</th>\n",
       "      <td>e2a05f0d-1ca7-4553-8753-cc603290ae0c</td>\n",
       "      <td>[{'created_at': '2014-08-27T20:46:00+00:00'}, ...</td>\n",
       "      <td>[{'name': '.babelrc', 'size': 125}, {'name': '...</td>\n",
       "    </tr>\n",
       "    <tr>\n",
       "      <th>5497</th>\n",
       "      <td>5ad03e65-a152-43c9-9bac-14d8d7f36fd6</td>\n",
       "      <td>[{'created_at': '2010-07-30T17:22:06+00:00'}, ...</td>\n",
       "      <td>[{'name': 'COPYING', 'size': 35147}, {'name': ...</td>\n",
       "    </tr>\n",
       "  </tbody>\n",
       "</table>\n",
       "<p>5498 rows × 3 columns</p>\n",
       "</div>"
      ],
      "text/plain": [
       "                                   repo_id  \\\n",
       "0     989d25c5-ab17-43e8-a046-814b44f4f3f7   \n",
       "1     e9dc25f7-e8e0-48fb-84a0-cbba445398f7   \n",
       "2     7e74d90d-30a1-4cba-bf36-a365991e7f04   \n",
       "3     f9e289cd-cba2-4f65-9626-923fcfe6c1cf   \n",
       "4     ebac9dab-958f-4ac7-8801-114c41c0b27d   \n",
       "...                                    ...   \n",
       "5493  940dcbbb-9cac-4412-8cb6-b237d76845fb   \n",
       "5494  f536813a-9d5f-414f-9e0f-dda1e58188f5   \n",
       "5495  3d38df23-d225-4254-a2e6-e1a4d0fd4152   \n",
       "5496  e2a05f0d-1ca7-4553-8753-cc603290ae0c   \n",
       "5497  5ad03e65-a152-43c9-9bac-14d8d7f36fd6   \n",
       "\n",
       "                                                  stars  \\\n",
       "0     [{'created_at': '2015-12-21T20:24:11+00:00'}, ...   \n",
       "1     [{'created_at': '2016-08-19T06:40:26+00:00'}, ...   \n",
       "2     [{'created_at': '2016-04-11T18:36:21+00:00'}, ...   \n",
       "3     [{'created_at': '2016-04-19T10:41:23+00:00'}, ...   \n",
       "4     [{'created_at': '2017-07-26T20:00:34+00:00'}, ...   \n",
       "...                                                 ...   \n",
       "5493  [{'created_at': '2013-08-06T17:39:33+00:00'}, ...   \n",
       "5494  [{'created_at': '2013-05-22T16:05:26+00:00'}, ...   \n",
       "5495  [{'created_at': '2012-05-14T11:20:55+00:00'}, ...   \n",
       "5496  [{'created_at': '2014-08-27T20:46:00+00:00'}, ...   \n",
       "5497  [{'created_at': '2010-07-30T17:22:06+00:00'}, ...   \n",
       "\n",
       "                                                  files  \n",
       "0     [{'name': '.gitignore', 'size': 387}, {'name':...  \n",
       "1     [{'name': '.bowerrc', 'size': 59}, {'name': '....  \n",
       "2     [{'name': '.gitmodules', 'size': 2187611}, {'n...  \n",
       "3     [{'name': '.codeclimate.yml', 'size': 340}, {'...  \n",
       "4     [{'name': '.gitignore', 'size': 881}, {'name':...  \n",
       "...                                                 ...  \n",
       "5493  [{'name': '.gitignore', 'size': 367}, {'name':...  \n",
       "5494  [{'name': '.editorconfig', 'size': 97}, {'name...  \n",
       "5495  [{'name': '.gitattributes', 'size': 534}, {'na...  \n",
       "5496  [{'name': '.babelrc', 'size': 125}, {'name': '...  \n",
       "5497  [{'name': 'COPYING', 'size': 35147}, {'name': ...  \n",
       "\n",
       "[5498 rows x 3 columns]"
      ]
     },
     "execution_count": 12,
     "metadata": {},
     "output_type": "execute_result"
    }
   ],
   "source": [
    "repo"
   ]
  },
  {
   "cell_type": "markdown",
   "id": "f28ff882",
   "metadata": {
    "papermill": {
     "duration": 0.011946,
     "end_time": "2025-03-02T05:18:52.758488",
     "exception": false,
     "start_time": "2025-03-02T05:18:52.746542",
     "status": "completed"
    },
    "tags": []
   },
   "source": [
    "こんな感じで stars というカラムにスターの履歴, files というカラムにファイルの情報が入っています。\n",
    "\n",
    "これをtrain/test.csv に結合したいわけですが, pandas では `merge` というメソッドを使うことで、2つの DataFrame を結合することができます。"
   ]
  },
  {
   "cell_type": "code",
   "execution_count": 13,
   "id": "e5f602ae",
   "metadata": {
    "execution": {
     "iopub.execute_input": "2025-03-02T05:18:52.784395Z",
     "iopub.status.busy": "2025-03-02T05:18:52.784080Z",
     "iopub.status.idle": "2025-03-02T05:18:52.826731Z",
     "shell.execute_reply": "2025-03-02T05:18:52.825659Z"
    },
    "papermill": {
     "duration": 0.057427,
     "end_time": "2025-03-02T05:18:52.828367",
     "exception": false,
     "start_time": "2025-03-02T05:18:52.770940",
     "status": "completed"
    },
    "tags": []
   },
   "outputs": [
    {
     "data": {
      "text/html": [
       "<div>\n",
       "<style scoped>\n",
       "    .dataframe tbody tr th:only-of-type {\n",
       "        vertical-align: middle;\n",
       "    }\n",
       "\n",
       "    .dataframe tbody tr th {\n",
       "        vertical-align: top;\n",
       "    }\n",
       "\n",
       "    .dataframe thead th {\n",
       "        text-align: right;\n",
       "    }\n",
       "</style>\n",
       "<table border=\"1\" class=\"dataframe\">\n",
       "  <thead>\n",
       "    <tr style=\"text-align: right;\">\n",
       "      <th></th>\n",
       "      <th>repo_id</th>\n",
       "      <th>owner</th>\n",
       "      <th>repo</th>\n",
       "      <th>active</th>\n",
       "      <th>stars</th>\n",
       "      <th>files</th>\n",
       "    </tr>\n",
       "  </thead>\n",
       "  <tbody>\n",
       "    <tr>\n",
       "      <th>0</th>\n",
       "      <td>543a877d-cb0c-4705-92f5-acaf04706cd8</td>\n",
       "      <td>dana-i2cat</td>\n",
       "      <td>opennaas</td>\n",
       "      <td>False</td>\n",
       "      <td>[{'created_at': '2011-08-08T12:45:48+00:00'}, ...</td>\n",
       "      <td>[{'name': '.gitignore', 'size': 136}, {'name':...</td>\n",
       "    </tr>\n",
       "    <tr>\n",
       "      <th>1</th>\n",
       "      <td>2c471519-698f-439f-a498-fc57d198a808</td>\n",
       "      <td>salesagility</td>\n",
       "      <td>SuiteCRM</td>\n",
       "      <td>True</td>\n",
       "      <td>[{'created_at': '2013-09-24T18:49:49+00:00'}, ...</td>\n",
       "      <td>[{'name': '.codecov.yml', 'size': 1378}, {'nam...</td>\n",
       "    </tr>\n",
       "    <tr>\n",
       "      <th>2</th>\n",
       "      <td>9535bc28-6bca-4843-be86-b634c2282eb9</td>\n",
       "      <td>fake-name</td>\n",
       "      <td>ReadableWebProxy</td>\n",
       "      <td>False</td>\n",
       "      <td>[{'created_at': '2016-08-02T22:04:35+00:00'}, ...</td>\n",
       "      <td>[{'name': '.gitattributes', 'size': 285}, {'na...</td>\n",
       "    </tr>\n",
       "    <tr>\n",
       "      <th>3</th>\n",
       "      <td>c9417209-8ae3-4352-b41e-838e194be066</td>\n",
       "      <td>AOSParadox</td>\n",
       "      <td>android_kernel_oneplus_msm8974</td>\n",
       "      <td>False</td>\n",
       "      <td>[{'created_at': '2015-09-07T04:14:33+00:00'}, ...</td>\n",
       "      <td>[{'name': '.gitignore', 'size': 1020}, {'name'...</td>\n",
       "    </tr>\n",
       "    <tr>\n",
       "      <th>4</th>\n",
       "      <td>0292a511-920f-483e-aeff-bf743c6a41b4</td>\n",
       "      <td>ipti</td>\n",
       "      <td>br.tag</td>\n",
       "      <td>True</td>\n",
       "      <td>[{'created_at': '2016-03-22T13:31:17+00:00'}, ...</td>\n",
       "      <td>[{'name': '.dockerignore', 'size': 26}, {'name...</td>\n",
       "    </tr>\n",
       "    <tr>\n",
       "      <th>...</th>\n",
       "      <td>...</td>\n",
       "      <td>...</td>\n",
       "      <td>...</td>\n",
       "      <td>...</td>\n",
       "      <td>...</td>\n",
       "      <td>...</td>\n",
       "    </tr>\n",
       "    <tr>\n",
       "      <th>3678</th>\n",
       "      <td>8f53ae54-82a8-4674-994a-01173382734a</td>\n",
       "      <td>qudou</td>\n",
       "      <td>xmlplus</td>\n",
       "      <td>False</td>\n",
       "      <td>[{'created_at': '2017-03-11T18:11:22+00:00'}, ...</td>\n",
       "      <td>[{'name': '.gitignore', 'size': 12}, {'name': ...</td>\n",
       "    </tr>\n",
       "    <tr>\n",
       "      <th>3679</th>\n",
       "      <td>408a5695-2023-4131-a7a8-d90422840330</td>\n",
       "      <td>midgen</td>\n",
       "      <td>cashgenUE</td>\n",
       "      <td>False</td>\n",
       "      <td>[{'created_at': '2016-04-23T16:53:11+00:00'}, ...</td>\n",
       "      <td>[{'name': '.clang-format', 'size': 968}, {'nam...</td>\n",
       "    </tr>\n",
       "    <tr>\n",
       "      <th>3680</th>\n",
       "      <td>187c0179-23d2-49de-bb29-867220688a48</td>\n",
       "      <td>FCP-INDI</td>\n",
       "      <td>C-PAC</td>\n",
       "      <td>True</td>\n",
       "      <td>[{'created_at': '2020-05-28T19:09:30+00:00'}, ...</td>\n",
       "      <td>[{'name': '.circleci/config.yml', 'size': 431}...</td>\n",
       "    </tr>\n",
       "    <tr>\n",
       "      <th>3681</th>\n",
       "      <td>f22e99d7-7939-4a7f-8338-54ef894d5c1b</td>\n",
       "      <td>estafette</td>\n",
       "      <td>estafette-ci-builder</td>\n",
       "      <td>False</td>\n",
       "      <td>[{'created_at': '2017-04-11T12:44:23+00:00'}, ...</td>\n",
       "      <td>[{'name': '.estafette.yaml', 'size': 15342}, {...</td>\n",
       "    </tr>\n",
       "    <tr>\n",
       "      <th>3682</th>\n",
       "      <td>c7765d85-0b95-4806-9554-9665d4465c9a</td>\n",
       "      <td>xmendez</td>\n",
       "      <td>wfuzz</td>\n",
       "      <td>False</td>\n",
       "      <td>[{'created_at': '2014-10-24T20:36:06+00:00'}, ...</td>\n",
       "      <td>[{'name': '.flake8', 'size': 98}, {'name': '.g...</td>\n",
       "    </tr>\n",
       "  </tbody>\n",
       "</table>\n",
       "<p>3683 rows × 6 columns</p>\n",
       "</div>"
      ],
      "text/plain": [
       "                                   repo_id         owner  \\\n",
       "0     543a877d-cb0c-4705-92f5-acaf04706cd8    dana-i2cat   \n",
       "1     2c471519-698f-439f-a498-fc57d198a808  salesagility   \n",
       "2     9535bc28-6bca-4843-be86-b634c2282eb9     fake-name   \n",
       "3     c9417209-8ae3-4352-b41e-838e194be066    AOSParadox   \n",
       "4     0292a511-920f-483e-aeff-bf743c6a41b4          ipti   \n",
       "...                                    ...           ...   \n",
       "3678  8f53ae54-82a8-4674-994a-01173382734a         qudou   \n",
       "3679  408a5695-2023-4131-a7a8-d90422840330        midgen   \n",
       "3680  187c0179-23d2-49de-bb29-867220688a48      FCP-INDI   \n",
       "3681  f22e99d7-7939-4a7f-8338-54ef894d5c1b     estafette   \n",
       "3682  c7765d85-0b95-4806-9554-9665d4465c9a       xmendez   \n",
       "\n",
       "                                repo  active  \\\n",
       "0                           opennaas   False   \n",
       "1                           SuiteCRM    True   \n",
       "2                   ReadableWebProxy   False   \n",
       "3     android_kernel_oneplus_msm8974   False   \n",
       "4                             br.tag    True   \n",
       "...                              ...     ...   \n",
       "3678                         xmlplus   False   \n",
       "3679                       cashgenUE   False   \n",
       "3680                           C-PAC    True   \n",
       "3681            estafette-ci-builder   False   \n",
       "3682                           wfuzz   False   \n",
       "\n",
       "                                                  stars  \\\n",
       "0     [{'created_at': '2011-08-08T12:45:48+00:00'}, ...   \n",
       "1     [{'created_at': '2013-09-24T18:49:49+00:00'}, ...   \n",
       "2     [{'created_at': '2016-08-02T22:04:35+00:00'}, ...   \n",
       "3     [{'created_at': '2015-09-07T04:14:33+00:00'}, ...   \n",
       "4     [{'created_at': '2016-03-22T13:31:17+00:00'}, ...   \n",
       "...                                                 ...   \n",
       "3678  [{'created_at': '2017-03-11T18:11:22+00:00'}, ...   \n",
       "3679  [{'created_at': '2016-04-23T16:53:11+00:00'}, ...   \n",
       "3680  [{'created_at': '2020-05-28T19:09:30+00:00'}, ...   \n",
       "3681  [{'created_at': '2017-04-11T12:44:23+00:00'}, ...   \n",
       "3682  [{'created_at': '2014-10-24T20:36:06+00:00'}, ...   \n",
       "\n",
       "                                                  files  \n",
       "0     [{'name': '.gitignore', 'size': 136}, {'name':...  \n",
       "1     [{'name': '.codecov.yml', 'size': 1378}, {'nam...  \n",
       "2     [{'name': '.gitattributes', 'size': 285}, {'na...  \n",
       "3     [{'name': '.gitignore', 'size': 1020}, {'name'...  \n",
       "4     [{'name': '.dockerignore', 'size': 26}, {'name...  \n",
       "...                                                 ...  \n",
       "3678  [{'name': '.gitignore', 'size': 12}, {'name': ...  \n",
       "3679  [{'name': '.clang-format', 'size': 968}, {'nam...  \n",
       "3680  [{'name': '.circleci/config.yml', 'size': 431}...  \n",
       "3681  [{'name': '.estafette.yaml', 'size': 15342}, {...  \n",
       "3682  [{'name': '.flake8', 'size': 98}, {'name': '.g...  \n",
       "\n",
       "[3683 rows x 6 columns]"
      ]
     },
     "execution_count": 13,
     "metadata": {},
     "output_type": "execute_result"
    }
   ],
   "source": [
    "pd.merge(train, repo, on='repo_id')"
   ]
  },
  {
   "cell_type": "markdown",
   "id": "ae5deb05",
   "metadata": {
    "papermill": {
     "duration": 0.01223,
     "end_time": "2025-03-02T05:18:52.853449",
     "exception": false,
     "start_time": "2025-03-02T05:18:52.841219",
     "status": "completed"
    },
    "tags": []
   },
   "source": [
    "このように、train に star, そして file の情報を追加することができました。\n",
    "\n",
    "同様に test にも追加して、それぞれ `train_merged`, `test_merged` として保存しておきます。"
   ]
  },
  {
   "cell_type": "code",
   "execution_count": 14,
   "id": "e69c22c6",
   "metadata": {
    "execution": {
     "iopub.execute_input": "2025-03-02T05:18:52.880002Z",
     "iopub.status.busy": "2025-03-02T05:18:52.879650Z",
     "iopub.status.idle": "2025-03-02T05:18:52.895817Z",
     "shell.execute_reply": "2025-03-02T05:18:52.894721Z"
    },
    "papermill": {
     "duration": 0.031476,
     "end_time": "2025-03-02T05:18:52.897715",
     "exception": false,
     "start_time": "2025-03-02T05:18:52.866239",
     "status": "completed"
    },
    "tags": []
   },
   "outputs": [],
   "source": [
    "train_merged = train.merge(repo, on='repo_id', how='left')\n",
    "test_merged = test.merge(repo, on='repo_id', how='left')"
   ]
  },
  {
   "cell_type": "markdown",
   "id": "cfa01e24",
   "metadata": {
    "papermill": {
     "duration": 0.012425,
     "end_time": "2025-03-02T05:18:52.922933",
     "exception": false,
     "start_time": "2025-03-02T05:18:52.910508",
     "status": "completed"
    },
    "tags": []
   },
   "source": [
    "これで star と file のデータが集まったわけです。これを使えば色々と予測ができそうですが、まずは焦らずにデータの性質を丁寧に調べることが大切です。まずは star数の分布を調べてみましょう。\n",
    "\n",
    "`sr.apply(f)`　で列 `sr` の各行に対して関数 `f` を適用した結果の列を得ることができます。\n",
    "\n",
    "今回の場合、`list_len` によって starの数を調べます。\n",
    "ついでにファイルの数も調べて、それぞれ \"n_stars\", \"n_files\" という名前の列として追加します。"
   ]
  },
  {
   "cell_type": "code",
   "execution_count": 15,
   "id": "5a52fad0",
   "metadata": {
    "execution": {
     "iopub.execute_input": "2025-03-02T05:18:52.949415Z",
     "iopub.status.busy": "2025-03-02T05:18:52.949101Z",
     "iopub.status.idle": "2025-03-02T05:18:52.952923Z",
     "shell.execute_reply": "2025-03-02T05:18:52.952066Z"
    },
    "papermill": {
     "duration": 0.018738,
     "end_time": "2025-03-02T05:18:52.954381",
     "exception": false,
     "start_time": "2025-03-02T05:18:52.935643",
     "status": "completed"
    },
    "tags": []
   },
   "outputs": [],
   "source": [
    "def list_len(s: str):\n",
    "    return s.count(',')"
   ]
  },
  {
   "cell_type": "code",
   "execution_count": 16,
   "id": "1e5f7015",
   "metadata": {
    "execution": {
     "iopub.execute_input": "2025-03-02T05:18:52.982670Z",
     "iopub.status.busy": "2025-03-02T05:18:52.982287Z",
     "iopub.status.idle": "2025-03-02T05:18:53.064586Z",
     "shell.execute_reply": "2025-03-02T05:18:53.063661Z"
    },
    "papermill": {
     "duration": 0.09882,
     "end_time": "2025-03-02T05:18:53.066017",
     "exception": false,
     "start_time": "2025-03-02T05:18:52.967197",
     "status": "completed"
    },
    "tags": []
   },
   "outputs": [
    {
     "data": {
      "text/plain": [
       "0         30\n",
       "1       2680\n",
       "2        170\n",
       "3          4\n",
       "4         11\n",
       "        ... \n",
       "3678      28\n",
       "3679     350\n",
       "3680      24\n",
       "3681      14\n",
       "3682    4003\n",
       "Name: stars, Length: 3683, dtype: int64"
      ]
     },
     "execution_count": 16,
     "metadata": {},
     "output_type": "execute_result"
    }
   ],
   "source": [
    "# Serise の `apply` メソッドを使って、各要素に関数を適用した結果を取得できる\n",
    "train_merged['stars'].apply(list_len)"
   ]
  },
  {
   "cell_type": "code",
   "execution_count": 17,
   "id": "20571ab8",
   "metadata": {
    "execution": {
     "iopub.execute_input": "2025-03-02T05:18:53.092666Z",
     "iopub.status.busy": "2025-03-02T05:18:53.092272Z",
     "iopub.status.idle": "2025-03-02T05:18:54.493405Z",
     "shell.execute_reply": "2025-03-02T05:18:54.492453Z"
    },
    "papermill": {
     "duration": 1.416334,
     "end_time": "2025-03-02T05:18:54.495183",
     "exception": false,
     "start_time": "2025-03-02T05:18:53.078849",
     "status": "completed"
    },
    "tags": []
   },
   "outputs": [],
   "source": [
    "# それぞれ \"n_stars\", \"n_files\" という名前の列として追加しておく\n",
    "train_merged[\"n_stars\"] = train_merged[\"stars\"].apply(list_len)\n",
    "test_merged[\"n_stars\"] = test_merged[\"stars\"].apply(list_len)\n",
    "\n",
    "train_merged[\"n_files\"] = train_merged[\"files\"].apply(list_len)\n",
    "test_merged[\"n_files\"] = test_merged[\"files\"].apply(list_len)"
   ]
  },
  {
   "cell_type": "markdown",
   "id": "0f1faf10",
   "metadata": {
    "papermill": {
     "duration": 0.06693,
     "end_time": "2025-03-02T05:18:54.575089",
     "exception": false,
     "start_time": "2025-03-02T05:18:54.508159",
     "status": "completed"
    },
    "tags": []
   },
   "source": [
    "ではこれの分布を調べます。グラフをプロットするときは matplotlib というライブラリがよく使われます。\n",
    "\n",
    "今回は matplotlib の `hist` 関数を使ってヒストグラムを描きます。"
   ]
  },
  {
   "cell_type": "code",
   "execution_count": 18,
   "id": "e3af36fc",
   "metadata": {
    "execution": {
     "iopub.execute_input": "2025-03-02T05:18:54.602711Z",
     "iopub.status.busy": "2025-03-02T05:18:54.602300Z",
     "iopub.status.idle": "2025-03-02T05:18:54.606110Z",
     "shell.execute_reply": "2025-03-02T05:18:54.605116Z"
    },
    "papermill": {
     "duration": 0.01905,
     "end_time": "2025-03-02T05:18:54.607764",
     "exception": false,
     "start_time": "2025-03-02T05:18:54.588714",
     "status": "completed"
    },
    "tags": []
   },
   "outputs": [],
   "source": [
    "import matplotlib.pyplot as plt"
   ]
  },
  {
   "cell_type": "code",
   "execution_count": 19,
   "id": "0695ff58",
   "metadata": {
    "execution": {
     "iopub.execute_input": "2025-03-02T05:18:54.634947Z",
     "iopub.status.busy": "2025-03-02T05:18:54.634600Z",
     "iopub.status.idle": "2025-03-02T05:18:55.292041Z",
     "shell.execute_reply": "2025-03-02T05:18:55.290988Z"
    },
    "papermill": {
     "duration": 0.672706,
     "end_time": "2025-03-02T05:18:55.293700",
     "exception": false,
     "start_time": "2025-03-02T05:18:54.620994",
     "status": "completed"
    },
    "tags": []
   },
   "outputs": [
    {
     "data": {
      "image/png": "[encoded data removed]",
      "text/plain": [
       "<Figure size 640x480 with 1 Axes>"
      ]
     },
     "metadata": {},
     "output_type": "display_data"
    }
   ],
   "source": [
    "# train と test それぞれの n_stars の分布をプロット\n",
    "plt.hist(train_merged['n_stars'], bins=50, alpha=0.5, label='train', log=True)\n",
    "plt.hist(test_merged['n_stars'], bins=50, alpha=0.5, label='test', log=True)\n",
    "plt.show()"
   ]
  },
  {
   "cell_type": "code",
   "execution_count": 20,
   "id": "e043a6ce",
   "metadata": {
    "execution": {
     "iopub.execute_input": "2025-03-02T05:18:55.321020Z",
     "iopub.status.busy": "2025-03-02T05:18:55.320639Z",
     "iopub.status.idle": "2025-03-02T05:18:55.956670Z",
     "shell.execute_reply": "2025-03-02T05:18:55.955617Z"
    },
    "papermill": {
     "duration": 0.651484,
     "end_time": "2025-03-02T05:18:55.958298",
     "exception": false,
     "start_time": "2025-03-02T05:18:55.306814",
     "status": "completed"
    },
    "tags": []
   },
   "outputs": [
    {
     "data": {
      "image/png": "[encoded data removed]",
      "text/plain": [
       "<Figure size 640x480 with 1 Axes>"
      ]
     },
     "metadata": {},
     "output_type": "display_data"
    }
   ],
   "source": [
    "# train と test それぞれの n_files の分布をプロット\n",
    "plt.hist(train_merged['n_files'], bins=50, alpha=0.5, label='train', log=True)\n",
    "plt.hist(test_merged['n_files'], bins=50, alpha=0.5, label='test', log=True)\n",
    "plt.legend()\n",
    "plt.show()"
   ]
  },
  {
   "cell_type": "markdown",
   "id": "95633df1",
   "metadata": {
    "papermill": {
     "duration": 0.013088,
     "end_time": "2025-03-02T05:18:55.984961",
     "exception": false,
     "start_time": "2025-03-02T05:18:55.971873",
     "status": "completed"
    },
    "tags": []
   },
   "source": [
    "このグラフから何を読み取るかは競技のうちなのであまり書きませんが、少なくとも star数 も file数 も少ないものが多そうというのはわかります。\n",
    "\n",
    "いくつかチェックした方がいいことを書いておきます。\n",
    "\n",
    "- 基本的な統計量\n",
    "  - 当たり前ですが、サイズや最小値・最大値などを調べておきましょう！見落とすとまずい情報があるかもしれません。\n",
    "- 他の変数との関係\n",
    "  - 相関係数や、変数の値ごとの分布 (例: Active / InActive それぞれについて star数の分布)　などを調べておくと予測に役立つ特徴が見つかるかもしれません。 \n",
    "- train/test データ間で分布の差はないか？\n",
    "  - バリデーションデータを作ることによる精度の見積もりはなぜ上手くいくのでしょうか？ https://abap34.github.io/ml-lecture/ch05/lecture.pdf#48=&page=63.00 を思い出しましょう！\n"
   ]
  },
  {
   "cell_type": "markdown",
   "id": "86c3d8db",
   "metadata": {
    "papermill": {
     "duration": 0.013552,
     "end_time": "2025-03-02T05:18:56.011966",
     "exception": false,
     "start_time": "2025-03-02T05:18:55.998414",
     "status": "completed"
    },
    "tags": []
   },
   "source": [
    "## 特徴量エンジニアリングをしよう\n",
    "\n",
    "さて、star数 と file数が手に入っているわけですが、このような各レコードが持つ特徴を表現する定量的な量を「特徴量」と呼びます。\n",
    "\n",
    "さらに、この二つはどう考えても「アクティブかどうか？」という結果を予測する上で役に立つ量です。\n",
    "このような予測に役立つ特徴量を取得しておいてあげることで予測精度を高めることができます。\n",
    "\n",
    "\n",
    "また、外から取得するだけでなく既存の特徴を組み合わせたり加工することでもいくつかのメリットを享受することができます。\n",
    "\n",
    "\n",
    "例えば star数 と file数 という二つの特徴から新しい特徴を作ることを考えてみましょう。\n",
    "\n",
    "\n",
    "例えば「star数 のわりに file数 が多いレポジトリは、やりがいの割にメンテナンスコストが高くて開発者のモチベ維持が大変そうではないか？」というような仮説を考えることができます。\n",
    "\n",
    "\n",
    "そこで、"
   ]
  },
  {
   "cell_type": "code",
   "execution_count": 21,
   "id": "84dfd748",
   "metadata": {
    "execution": {
     "iopub.execute_input": "2025-03-02T05:18:56.040693Z",
     "iopub.status.busy": "2025-03-02T05:18:56.040327Z",
     "iopub.status.idle": "2025-03-02T05:18:56.046166Z",
     "shell.execute_reply": "2025-03-02T05:18:56.045242Z"
    },
    "papermill": {
     "duration": 0.022562,
     "end_time": "2025-03-02T05:18:56.047869",
     "exception": false,
     "start_time": "2025-03-02T05:18:56.025307",
     "status": "completed"
    },
    "tags": []
   },
   "outputs": [],
   "source": [
    "# files数 と star数 の比率を計算 \n",
    "train_merged[\"star_file_ratio\"] = train_merged[\"n_files\"] / train_merged[\"n_stars\"]\n",
    "test_merged[\"star_file_ratio\"] = test_merged[\"n_files\"] / test_merged[\"n_stars\"]"
   ]
  },
  {
   "cell_type": "markdown",
   "id": "73940da7",
   "metadata": {
    "papermill": {
     "duration": 0.013111,
     "end_time": "2025-03-02T05:18:56.074832",
     "exception": false,
     "start_time": "2025-03-02T05:18:56.061721",
     "status": "completed"
    },
    "tags": []
   },
   "source": [
    "という列を追加してみます。\n",
    "\n",
    "この列の追加によって、予測モデルに入力される情報の情報量自体は増えていません。\n",
    "\n",
    "\n",
    "しかし、明示的にこのような列を追加してやることによって (もしこの特徴量が予測する上で有用だとしたら)　確実にモデルに拾ってもらえること、また学習時間の短縮などが見込めます。\n",
    "\n",
    "\n",
    "このような、予測に役立たせることを目指して様々な特徴量を作ることを\n",
    "\n",
    "「特徴量エンジニアリング」と言います。\n",
    "\n",
    "\n",
    "データを調べて仮説をたて、その仮説に基づいて特徴量エンジニアリングをすることこそが表形式のコンペで大きな差別化ポイントになるところです。\n",
    "\n",
    "\n",
    "データをよく調べて、色々な特徴量を作ってみましょう。\n",
    "\n",
    "---\n",
    "\n",
    "📝: そのほかコンペの戦い方などは機械学習講習会の第７回を見てください: https://abap34.github.io/ml-lecture/"
   ]
  },
  {
   "cell_type": "markdown",
   "id": "c44d89e5",
   "metadata": {
    "papermill": {
     "duration": 0.01309,
     "end_time": "2025-03-02T05:18:56.101307",
     "exception": false,
     "start_time": "2025-03-02T05:18:56.088217",
     "status": "completed"
    },
    "tags": []
   },
   "source": [
    "## モデルを訓練しよう\n",
    "\n",
    "では、このスター数とファイル数からアクティブさを予測するモデルを作ってみましょう！\n",
    "\n",
    "機械学習講習会 (とそのコンペ) にでた人はバリデーションの大切さが身に沁みているかと思います。\n",
    "\n",
    "今回は **Cross Validation** を使ってモデルの汎化性能を評価します。"
   ]
  },
  {
   "cell_type": "code",
   "execution_count": 22,
   "id": "0178306b",
   "metadata": {
    "execution": {
     "iopub.execute_input": "2025-03-02T05:18:56.129886Z",
     "iopub.status.busy": "2025-03-02T05:18:56.129526Z",
     "iopub.status.idle": "2025-03-02T05:18:57.527000Z",
     "shell.execute_reply": "2025-03-02T05:18:57.525772Z"
    },
    "papermill": {
     "duration": 1.413734,
     "end_time": "2025-03-02T05:18:57.528995",
     "exception": false,
     "start_time": "2025-03-02T05:18:56.115261",
     "status": "completed"
    },
    "tags": []
   },
   "outputs": [],
   "source": [
    "from sklearn.model_selection import KFold\n",
    "\n",
    "# ⇩ 運試しに、random_state を好きな数字に変えましょう！\n",
    "kf = KFold(n_splits=4, shuffle=True, random_state=34)"
   ]
  },
  {
   "cell_type": "code",
   "execution_count": 23,
   "id": "6273dd1c",
   "metadata": {
    "execution": {
     "iopub.execute_input": "2025-03-02T05:18:57.557821Z",
     "iopub.status.busy": "2025-03-02T05:18:57.557254Z",
     "iopub.status.idle": "2025-03-02T05:18:57.561812Z",
     "shell.execute_reply": "2025-03-02T05:18:57.560818Z"
    },
    "papermill": {
     "duration": 0.020618,
     "end_time": "2025-03-02T05:18:57.563480",
     "exception": false,
     "start_time": "2025-03-02T05:18:57.542862",
     "status": "completed"
    },
    "tags": []
   },
   "outputs": [],
   "source": [
    "# 使うカラムと予測対象のカラム\n",
    "use_cols = [\"n_stars\", \"n_files\", \"star_file_ratio\"]\n",
    "target_col = \"active\""
   ]
  },
  {
   "cell_type": "markdown",
   "id": "3e07cd89",
   "metadata": {
    "papermill": {
     "duration": 0.013112,
     "end_time": "2025-03-02T05:18:57.590384",
     "exception": false,
     "start_time": "2025-03-02T05:18:57.577272",
     "status": "completed"
    },
    "tags": []
   },
   "source": [
    "今回は、学習データを 4つに分割して、そのうちの 3つを学習データに、残り二つをバリデーションデータに使うというのを 4回繰り返します。"
   ]
  },
  {
   "cell_type": "code",
   "execution_count": 24,
   "id": "f237dc4c",
   "metadata": {
    "execution": {
     "iopub.execute_input": "2025-03-02T05:18:57.618590Z",
     "iopub.status.busy": "2025-03-02T05:18:57.618238Z",
     "iopub.status.idle": "2025-03-02T05:18:57.632692Z",
     "shell.execute_reply": "2025-03-02T05:18:57.631661Z"
    },
    "papermill": {
     "duration": 0.030325,
     "end_time": "2025-03-02T05:18:57.634195",
     "exception": false,
     "start_time": "2025-03-02T05:18:57.603870",
     "status": "completed"
    },
    "tags": []
   },
   "outputs": [
    {
     "name": "stdout",
     "output_type": "stream",
     "text": [
      "学習データの数: 2762 検証データの数: 921\n",
      "学習データの数: 2762 検証データの数: 921\n",
      "学習データの数: 2762 検証データの数: 921\n",
      "学習データの数: 2763 検証データの数: 920\n"
     ]
    }
   ],
   "source": [
    "for train_index, valid_index in kf.split(train_merged):\n",
    "    train_data = train_merged.iloc[train_index]\n",
    "    valid_data = train_merged.iloc[valid_index]\n",
    "    print(\"学習データの数:\", len(train_data), \"検証データの数:\", len(valid_data))"
   ]
  },
  {
   "cell_type": "markdown",
   "id": "fb7275c5",
   "metadata": {
    "papermill": {
     "duration": 0.013105,
     "end_time": "2025-03-02T05:18:57.660928",
     "exception": false,
     "start_time": "2025-03-02T05:18:57.647823",
     "status": "completed"
    },
    "tags": []
   },
   "source": [
    "大体 3:1 くらいに分割されていることがわかります。\n",
    "\n",
    "\n",
    "実際に学習を行う部分を作ります。\n",
    "\n",
    "\n",
    "今回は、モデルとして GBDT (勾配ブースティング木) を使います。今回のような表形式データに対しては非常に強力なことが知られているモデルです。\n",
    "\n",
    "GBDT を使うためのライブラリとして、**lightgbm** を使います。とても人気がある高精度で高速な GBDT の学習の実装です。"
   ]
  },
  {
   "cell_type": "code",
   "execution_count": 25,
   "id": "b35eef9f",
   "metadata": {
    "execution": {
     "iopub.execute_input": "2025-03-02T05:18:57.689020Z",
     "iopub.status.busy": "2025-03-02T05:18:57.688631Z",
     "iopub.status.idle": "2025-03-02T05:19:00.536334Z",
     "shell.execute_reply": "2025-03-02T05:19:00.535230Z"
    },
    "papermill": {
     "duration": 2.863917,
     "end_time": "2025-03-02T05:19:00.538190",
     "exception": false,
     "start_time": "2025-03-02T05:18:57.674273",
     "status": "completed"
    },
    "tags": []
   },
   "outputs": [],
   "source": [
    "import lightgbm as lgb\n",
    "\n",
    "# 各分割をもらって、lightgbm のモデルを訓練して訓練した後のモデルを返す関数\n",
    "def train_fold(train_X: pd.DataFrame, train_y: pd.Series, valid_X: pd.DataFrame, valid_y: pd.Series) -> lgb.Booster:\n",
    "    # データセットを作成\n",
    "    lgb_train = lgb.Dataset(train_X, train_y)\n",
    "    lgb_valid = lgb.Dataset(valid_X, valid_y, reference=lgb_train)\n",
    "\n",
    "    params = {\n",
    "        # 二値分類として解く\n",
    "        'objective': 'binary',\n",
    "        # 評価指標として auc と accuracy を使う\n",
    "        'metric': ['auc', 'accuracy'],\n",
    "    }\n",
    "\n",
    "    # 学習. auc が 100ステップ以上改善しないなら打ち切るように設定する\n",
    "    model = lgb.train(params, lgb_train, valid_sets=[lgb_valid], callbacks=[lgb.early_stopping(100, first_metric_only=True)])\n",
    "\n",
    "    return model"
   ]
  },
  {
   "cell_type": "code",
   "execution_count": 26,
   "id": "950691a2",
   "metadata": {
    "execution": {
     "iopub.execute_input": "2025-03-02T05:19:00.567495Z",
     "iopub.status.busy": "2025-03-02T05:19:00.566835Z",
     "iopub.status.idle": "2025-03-02T05:19:01.007439Z",
     "shell.execute_reply": "2025-03-02T05:19:01.005597Z"
    },
    "papermill": {
     "duration": 0.457273,
     "end_time": "2025-03-02T05:19:01.009292",
     "exception": false,
     "start_time": "2025-03-02T05:19:00.552019",
     "status": "completed"
    },
    "tags": []
   },
   "outputs": [
    {
     "name": "stdout",
     "output_type": "stream",
     "text": [
      "[LightGBM] [Info] Number of positive: 741, number of negative: 2021\n",
      "[LightGBM] [Info] Auto-choosing col-wise multi-threading, the overhead of testing was 0.002300 seconds.\n",
      "You can set `force_col_wise=true` to remove the overhead.\n",
      "[LightGBM] [Info] Total Bins 765\n",
      "[LightGBM] [Info] Number of data points in the train set: 2762, number of used features: 3\n",
      "[LightGBM] [Info] [binary:BoostFromScore]: pavg=0.268284 -> initscore=-1.003347\n",
      "[LightGBM] [Info] Start training from score -1.003347\n",
      "Training until validation scores don't improve for 100 rounds\n",
      "Did not meet early stopping. Best iteration is:\n",
      "[7]\tvalid_0's auc: 0.778065\n",
      "Evaluated only: auc\n",
      "[LightGBM] [Info] Number of positive: 740, number of negative: 2022\n",
      "[LightGBM] [Info] Auto-choosing col-wise multi-threading, the overhead of testing was 0.000106 seconds.\n",
      "You can set `force_col_wise=true` to remove the overhead.\n",
      "[LightGBM] [Info] Total Bins 765\n",
      "[LightGBM] [Info] Number of data points in the train set: 2762, number of used features: 3\n",
      "[LightGBM] [Info] [binary:BoostFromScore]: pavg=0.267922 -> initscore=-1.005192\n",
      "[LightGBM] [Info] Start training from score -1.005192\n",
      "Training until validation scores don't improve for 100 rounds\n",
      "Did not meet early stopping. Best iteration is:\n",
      "[21]\tvalid_0's auc: 0.799025\n",
      "Evaluated only: auc\n",
      "[LightGBM] [Info] Number of positive: 731, number of negative: 2031\n",
      "[LightGBM] [Info] Auto-choosing col-wise multi-threading, the overhead of testing was 0.000106 seconds.\n",
      "You can set `force_col_wise=true` to remove the overhead.\n",
      "[LightGBM] [Info] Total Bins 765\n",
      "[LightGBM] [Info] Number of data points in the train set: 2762, number of used features: 3\n",
      "[LightGBM] [Info] [binary:BoostFromScore]: pavg=0.264663 -> initscore=-1.021870\n",
      "[LightGBM] [Info] Start training from score -1.021870\n",
      "Training until validation scores don't improve for 100 rounds\n",
      "Did not meet early stopping. Best iteration is:\n",
      "[9]\tvalid_0's auc: 0.773227\n",
      "Evaluated only: auc\n",
      "[LightGBM] [Info] Number of positive: 743, number of negative: 2020\n",
      "[LightGBM] [Info] Auto-choosing col-wise multi-threading, the overhead of testing was 0.000107 seconds.\n",
      "You can set `force_col_wise=true` to remove the overhead.\n",
      "[LightGBM] [Info] Total Bins 765\n",
      "[LightGBM] [Info] Number of data points in the train set: 2763, number of used features: 3\n",
      "[LightGBM] [Info] [binary:BoostFromScore]: pavg=0.268911 -> initscore=-1.000157\n",
      "[LightGBM] [Info] Start training from score -1.000157\n",
      "Training until validation scores don't improve for 100 rounds\n",
      "Did not meet early stopping. Best iteration is:\n",
      "[5]\tvalid_0's auc: 0.759383\n",
      "Evaluated only: auc\n"
     ]
    }
   ],
   "source": [
    "# 学習！\n",
    "\n",
    "models = []\n",
    "\n",
    "for train_index, valid_index in kf.split(train_merged):\n",
    "    train_data = train_merged.iloc[train_index]\n",
    "    valid_data = train_merged.iloc[valid_index]\n",
    "\n",
    "    train_X = train_data[use_cols]\n",
    "    train_y = train_data[target_col]\n",
    "\n",
    "    valid_X = valid_data[use_cols]\n",
    "    valid_y = valid_data[target_col]\n",
    "\n",
    "    model = train_fold(train_X, train_y, valid_X, valid_y)\n",
    "\n",
    "    models.append(model)"
   ]
  },
  {
   "cell_type": "markdown",
   "id": "81477ebd",
   "metadata": {
    "papermill": {
     "duration": 0.013566,
     "end_time": "2025-03-02T05:19:01.037378",
     "exception": false,
     "start_time": "2025-03-02T05:19:01.023812",
     "status": "completed"
    },
    "tags": []
   },
   "source": [
    "無事に学習が終わりました。**ここからがとても大事です。**\n",
    "\n",
    "\n",
    "きちんと性能を評価しましょう。まずは、バリデーションデータに対する予測結果を計算します。"
   ]
  },
  {
   "cell_type": "code",
   "execution_count": 27,
   "id": "0ec5c0d3",
   "metadata": {
    "execution": {
     "iopub.execute_input": "2025-03-02T05:19:01.067222Z",
     "iopub.status.busy": "2025-03-02T05:19:01.066876Z",
     "iopub.status.idle": "2025-03-02T05:19:01.084858Z",
     "shell.execute_reply": "2025-03-02T05:19:01.083962Z"
    },
    "papermill": {
     "duration": 0.03538,
     "end_time": "2025-03-02T05:19:01.087036",
     "exception": false,
     "start_time": "2025-03-02T05:19:01.051656",
     "status": "completed"
    },
    "tags": []
   },
   "outputs": [],
   "source": [
    "# `oof_pred` に今回訓練したモデルたちによる予測結果を格納する\n",
    " \n",
    "import numpy as np\n",
    "\n",
    "oof_pred = np.zeros(len(train_merged))\n",
    "\n",
    "for i, (train_index, valid_index) in enumerate(kf.split(train_merged)):\n",
    "    # バリデーションデータを取り出す\n",
    "    valid_data = train_merged.iloc[valid_index]\n",
    "    valid_X = valid_data[use_cols]\n",
    "\n",
    "    # 予測結果を出力\n",
    "    oof_pred[valid_index] = models[i].predict(valid_X)"
   ]
  },
  {
   "cell_type": "markdown",
   "id": "aaf3362d",
   "metadata": {
    "papermill": {
     "duration": 0.014021,
     "end_time": "2025-03-02T05:19:01.116286",
     "exception": false,
     "start_time": "2025-03-02T05:19:01.102265",
     "status": "completed"
    },
    "tags": []
   },
   "source": [
    "これを使って、テストデータに対する予測の精度を見積もります。今回のコンペの評価指標である ROC-AUC は scikit-learn というライブラリから利用できます。"
   ]
  },
  {
   "cell_type": "code",
   "execution_count": 28,
   "id": "69ffb32a",
   "metadata": {
    "execution": {
     "iopub.execute_input": "2025-03-02T05:19:01.145307Z",
     "iopub.status.busy": "2025-03-02T05:19:01.144967Z",
     "iopub.status.idle": "2025-03-02T05:19:01.156899Z",
     "shell.execute_reply": "2025-03-02T05:19:01.155838Z"
    },
    "papermill": {
     "duration": 0.02864,
     "end_time": "2025-03-02T05:19:01.158843",
     "exception": false,
     "start_time": "2025-03-02T05:19:01.130203",
     "status": "completed"
    },
    "tags": []
   },
   "outputs": [
    {
     "name": "stdout",
     "output_type": "stream",
     "text": [
      "0.7716196994953961\n"
     ]
    }
   ],
   "source": [
    "from sklearn.metrics import roc_auc_score, roc_curve\n",
    "\n",
    "score = roc_auc_score(train_merged[\"active\"], oof_pred)\n",
    "\n",
    "print(score)"
   ]
  },
  {
   "cell_type": "code",
   "execution_count": 29,
   "id": "fa397025",
   "metadata": {
    "execution": {
     "iopub.execute_input": "2025-03-02T05:19:01.188825Z",
     "iopub.status.busy": "2025-03-02T05:19:01.188435Z",
     "iopub.status.idle": "2025-03-02T05:19:01.414255Z",
     "shell.execute_reply": "2025-03-02T05:19:01.413005Z"
    },
    "papermill": {
     "duration": 0.242112,
     "end_time": "2025-03-02T05:19:01.416010",
     "exception": false,
     "start_time": "2025-03-02T05:19:01.173898",
     "status": "completed"
    },
    "tags": []
   },
   "outputs": [
    {
     "data": {
      "image/png": "[encoded data removed]",
      "text/plain": [
       "<Figure size 800x600 with 1 Axes>"
      ]
     },
     "metadata": {},
     "output_type": "display_data"
    }
   ],
   "source": [
    "# ROC 曲線のプロット\n",
    "fpr, tpr, thresholds = roc_curve(train_merged[\"active\"], oof_pred)\n",
    "\n",
    "\n",
    "plt.figure(figsize=(8, 6))\n",
    "plt.plot(fpr, tpr, label=f'ROC Curve (AUC = {score}')\n",
    "plt.plot([0, 1], [0, 1], linestyle='--', color='gray')  # ランダムな分類器の基準線\n",
    "plt.xlabel(\"False Positive Rate\")\n",
    "plt.ylabel(\"True Positive Rate\")\n",
    "plt.title(\"ROC Curve\")\n",
    "plt.legend()\n",
    "plt.grid()\n",
    "plt.show()\n"
   ]
  },
  {
   "cell_type": "markdown",
   "id": "1baf327a",
   "metadata": {
    "papermill": {
     "duration": 0.014579,
     "end_time": "2025-03-02T05:19:01.446135",
     "exception": false,
     "start_time": "2025-03-02T05:19:01.431556",
     "status": "completed"
    },
    "tags": []
   },
   "source": [
    "AUC: 0.771...  という結果が得られました！\n",
    "\n",
    "このスコアを上げていくことが目標です。\n",
    "\n",
    "\n",
    "他にも調べておくべきこととして、**特徴量の重要度** があります。\n",
    "\n",
    "\n",
    "いくらかのアルゴリズムでは、「予測にあたって各特徴量をどれくらい重視したのか？」という量を計算することができます。\n",
    "(feature importance などと呼ばれます)\n",
    "\n",
    "\n",
    "学習が終わったらこれを確認することで、特徴量エンジニアリングで作った特徴が実際どのくらい有用だったか？　を確かめることができます。\n",
    "\n",
    "\n",
    "ここでは lightgbm で feature importtance を計算してプロットする例を掲載します。　"
   ]
  },
  {
   "cell_type": "code",
   "execution_count": 30,
   "id": "3bdad11d",
   "metadata": {
    "execution": {
     "iopub.execute_input": "2025-03-02T05:19:01.477551Z",
     "iopub.status.busy": "2025-03-02T05:19:01.477207Z",
     "iopub.status.idle": "2025-03-02T05:19:01.976170Z",
     "shell.execute_reply": "2025-03-02T05:19:01.975286Z"
    },
    "papermill": {
     "duration": 0.516552,
     "end_time": "2025-03-02T05:19:01.977931",
     "exception": false,
     "start_time": "2025-03-02T05:19:01.461379",
     "status": "completed"
    },
    "tags": []
   },
   "outputs": [],
   "source": [
    "import matplotlib.pyplot as plt\n",
    "import seaborn as sns\n",
    "\n",
    "def plot_importance(models: list):\n",
    "    feature_importance = pd.DataFrame()\n",
    "    \n",
    "    for i, model in enumerate(models):\n",
    "        _df = pd.DataFrame()\n",
    "        _df['feature_importance'] = model.feature_importance()\n",
    "        _df['column'] = model.feature_name()\n",
    "        _df['fold'] = i + 1\n",
    "        feature_importance = pd.concat([feature_importance, _df], axis=0, ignore_index=True)\n",
    "\n",
    "    order = feature_importance.groupby('column').sum()[['feature_importance']].sort_values('feature_importance', ascending=False).index\n",
    "\n",
    "    plt.figure(figsize=(6, 4))\n",
    "    sns.boxenplot(data=feature_importance, x='feature_importance', y='column', order=order)\n",
    "    plt.title('feature importance')\n",
    "    plt.grid()\n",
    "    plt.show()"
   ]
  },
  {
   "cell_type": "code",
   "execution_count": 31,
   "id": "22b89cd3",
   "metadata": {
    "execution": {
     "iopub.execute_input": "2025-03-02T05:19:02.009713Z",
     "iopub.status.busy": "2025-03-02T05:19:02.009101Z",
     "iopub.status.idle": "2025-03-02T05:19:02.189531Z",
     "shell.execute_reply": "2025-03-02T05:19:02.188439Z"
    },
    "papermill": {
     "duration": 0.198333,
     "end_time": "2025-03-02T05:19:02.191281",
     "exception": false,
     "start_time": "2025-03-02T05:19:01.992948",
     "status": "completed"
    },
    "tags": []
   },
   "outputs": [
    {
     "name": "stderr",
     "output_type": "stream",
     "text": [
      "/usr/local/lib/python3.10/dist-packages/seaborn/categorical.py:1794: FutureWarning: use_inf_as_na option is deprecated and will be removed in a future version. Convert inf values to NaN before operating instead.\n",
      "  with pd.option_context('mode.use_inf_as_na', True):\n",
      "/usr/local/lib/python3.10/dist-packages/seaborn/categorical.py:1794: FutureWarning: use_inf_as_na option is deprecated and will be removed in a future version. Convert inf values to NaN before operating instead.\n",
      "  with pd.option_context('mode.use_inf_as_na', True):\n",
      "/usr/local/lib/python3.10/dist-packages/seaborn/categorical.py:1794: FutureWarning: use_inf_as_na option is deprecated and will be removed in a future version. Convert inf values to NaN before operating instead.\n",
      "  with pd.option_context('mode.use_inf_as_na', True):\n"
     ]
    },
    {
     "data": {
      "image/png": "[encoded data removed]",
      "text/plain": [
       "<Figure size 600x400 with 1 Axes>"
      ]
     },
     "metadata": {},
     "output_type": "display_data"
    }
   ],
   "source": [
    "plot_importance(models)"
   ]
  },
  {
   "cell_type": "markdown",
   "id": "450f4743",
   "metadata": {
    "papermill": {
     "duration": 0.014761,
     "end_time": "2025-03-02T05:19:02.221546",
     "exception": false,
     "start_time": "2025-03-02T05:19:02.206785",
     "status": "completed"
    },
    "tags": []
   },
   "source": [
    "これをみると、\n",
    "\n",
    "file数 > star数 > star数 と file数 の比率\n",
    "\n",
    "で重視されていることがわかりますね。\n",
    "\n",
    "\n",
    "また、予測値の分布もチェックしておくと変なバグに気がつきやすいのでやっておくと良いです。"
   ]
  },
  {
   "cell_type": "code",
   "execution_count": 32,
   "id": "ce3fdb07",
   "metadata": {
    "execution": {
     "iopub.execute_input": "2025-03-02T05:19:02.253706Z",
     "iopub.status.busy": "2025-03-02T05:19:02.253192Z",
     "iopub.status.idle": "2025-03-02T05:19:02.544726Z",
     "shell.execute_reply": "2025-03-02T05:19:02.543657Z"
    },
    "papermill": {
     "duration": 0.30956,
     "end_time": "2025-03-02T05:19:02.546246",
     "exception": false,
     "start_time": "2025-03-02T05:19:02.236686",
     "status": "completed"
    },
    "tags": []
   },
   "outputs": [
    {
     "data": {
      "image/png": "[encoded data removed]",
      "text/plain": [
       "<Figure size 640x480 with 1 Axes>"
      ]
     },
     "metadata": {},
     "output_type": "display_data"
    }
   ],
   "source": [
    "plt.hist(oof_pred, bins=20)\n",
    "plt.show()"
   ]
  },
  {
   "cell_type": "code",
   "execution_count": 33,
   "id": "2dc69aa9",
   "metadata": {
    "execution": {
     "iopub.execute_input": "2025-03-02T05:19:02.579648Z",
     "iopub.status.busy": "2025-03-02T05:19:02.579255Z",
     "iopub.status.idle": "2025-03-02T05:19:02.583346Z",
     "shell.execute_reply": "2025-03-02T05:19:02.582322Z"
    },
    "papermill": {
     "duration": 0.022661,
     "end_time": "2025-03-02T05:19:02.584880",
     "exception": false,
     "start_time": "2025-03-02T05:19:02.562219",
     "status": "completed"
    },
    "tags": []
   },
   "outputs": [],
   "source": [
    "from sklearn.metrics import confusion_matrix"
   ]
  },
  {
   "cell_type": "markdown",
   "id": "1de1bde9",
   "metadata": {
    "papermill": {
     "duration": 0.017003,
     "end_time": "2025-03-02T05:19:02.617779",
     "exception": false,
     "start_time": "2025-03-02T05:19:02.600776",
     "status": "completed"
    },
    "tags": []
   },
   "source": [
    "他にも例えば 予測がうまくいっていない例を確認するなどは役に立つことが多いです。\n",
    "\n",
    "しょうがない例なのか、何か情報が伝わっていないのかを調べて、もし後者なら伝えられる特徴量を考えましょう！"
   ]
  },
  {
   "cell_type": "markdown",
   "id": "99ff8907",
   "metadata": {
    "papermill": {
     "duration": 0.015881,
     "end_time": "2025-03-02T05:19:02.649534",
     "exception": false,
     "start_time": "2025-03-02T05:19:02.633653",
     "status": "completed"
    },
    "tags": []
   },
   "source": [
    "## 予測・Submit してみよう\n",
    "\n",
    "ここまで来れば、あとは予測をしてその結果を Submit するだけです！\n",
    "\n",
    "今回はモデルが 4つありますからこれらの予測の平均をとって最終予測とします。\n",
    "\n",
    "提出ファイルのためにフォーマットを揃えるには `sample_submission.csv` を使うのが便利です。"
   ]
  },
  {
   "cell_type": "code",
   "execution_count": 34,
   "id": "7e95e174",
   "metadata": {
    "execution": {
     "iopub.execute_input": "2025-03-02T05:19:02.683601Z",
     "iopub.status.busy": "2025-03-02T05:19:02.683196Z",
     "iopub.status.idle": "2025-03-02T05:19:02.703560Z",
     "shell.execute_reply": "2025-03-02T05:19:02.702503Z"
    },
    "papermill": {
     "duration": 0.039786,
     "end_time": "2025-03-02T05:19:02.705496",
     "exception": false,
     "start_time": "2025-03-02T05:19:02.665710",
     "status": "completed"
    },
    "tags": []
   },
   "outputs": [
    {
     "data": {
      "text/html": [
       "<div>\n",
       "<style scoped>\n",
       "    .dataframe tbody tr th:only-of-type {\n",
       "        vertical-align: middle;\n",
       "    }\n",
       "\n",
       "    .dataframe tbody tr th {\n",
       "        vertical-align: top;\n",
       "    }\n",
       "\n",
       "    .dataframe thead th {\n",
       "        text-align: right;\n",
       "    }\n",
       "</style>\n",
       "<table border=\"1\" class=\"dataframe\">\n",
       "  <thead>\n",
       "    <tr style=\"text-align: right;\">\n",
       "      <th></th>\n",
       "      <th>id</th>\n",
       "      <th>pred</th>\n",
       "    </tr>\n",
       "  </thead>\n",
       "  <tbody>\n",
       "    <tr>\n",
       "      <th>0</th>\n",
       "      <td>aae6372a-c92c-477c-b28f-d5979d2d5246</td>\n",
       "      <td>0.928556</td>\n",
       "    </tr>\n",
       "    <tr>\n",
       "      <th>1</th>\n",
       "      <td>424e6ca9-cd93-4ddc-a4ff-c161be69ac77</td>\n",
       "      <td>0.779127</td>\n",
       "    </tr>\n",
       "    <tr>\n",
       "      <th>2</th>\n",
       "      <td>bbfad893-9643-4b5c-9ac6-5eab319d64e4</td>\n",
       "      <td>0.377903</td>\n",
       "    </tr>\n",
       "    <tr>\n",
       "      <th>3</th>\n",
       "      <td>494417c4-ba3f-4c9e-878e-aca1b2fb37d0</td>\n",
       "      <td>0.381512</td>\n",
       "    </tr>\n",
       "    <tr>\n",
       "      <th>4</th>\n",
       "      <td>e92905aa-bdd2-4cd9-b67b-1192d3ee620e</td>\n",
       "      <td>0.666380</td>\n",
       "    </tr>\n",
       "    <tr>\n",
       "      <th>...</th>\n",
       "      <td>...</td>\n",
       "      <td>...</td>\n",
       "    </tr>\n",
       "    <tr>\n",
       "      <th>1810</th>\n",
       "      <td>2b671097-3b9b-4d61-bf48-44d0db76ef1d</td>\n",
       "      <td>0.596171</td>\n",
       "    </tr>\n",
       "    <tr>\n",
       "      <th>1811</th>\n",
       "      <td>0e305ada-9e27-4d9b-9bbc-1f46db8db86b</td>\n",
       "      <td>0.684157</td>\n",
       "    </tr>\n",
       "    <tr>\n",
       "      <th>1812</th>\n",
       "      <td>a00999a4-a1bb-4df0-8066-361de6002ff8</td>\n",
       "      <td>0.410451</td>\n",
       "    </tr>\n",
       "    <tr>\n",
       "      <th>1813</th>\n",
       "      <td>6791bcd6-e573-4c77-b6c0-e9bef4167c3c</td>\n",
       "      <td>0.811224</td>\n",
       "    </tr>\n",
       "    <tr>\n",
       "      <th>1814</th>\n",
       "      <td>59bd1314-b5f4-4d01-846b-28c8c546f78e</td>\n",
       "      <td>0.756223</td>\n",
       "    </tr>\n",
       "  </tbody>\n",
       "</table>\n",
       "<p>1815 rows × 2 columns</p>\n",
       "</div>"
      ],
      "text/plain": [
       "                                        id      pred\n",
       "0     aae6372a-c92c-477c-b28f-d5979d2d5246  0.928556\n",
       "1     424e6ca9-cd93-4ddc-a4ff-c161be69ac77  0.779127\n",
       "2     bbfad893-9643-4b5c-9ac6-5eab319d64e4  0.377903\n",
       "3     494417c4-ba3f-4c9e-878e-aca1b2fb37d0  0.381512\n",
       "4     e92905aa-bdd2-4cd9-b67b-1192d3ee620e  0.666380\n",
       "...                                    ...       ...\n",
       "1810  2b671097-3b9b-4d61-bf48-44d0db76ef1d  0.596171\n",
       "1811  0e305ada-9e27-4d9b-9bbc-1f46db8db86b  0.684157\n",
       "1812  a00999a4-a1bb-4df0-8066-361de6002ff8  0.410451\n",
       "1813  6791bcd6-e573-4c77-b6c0-e9bef4167c3c  0.811224\n",
       "1814  59bd1314-b5f4-4d01-846b-28c8c546f78e  0.756223\n",
       "\n",
       "[1815 rows x 2 columns]"
      ]
     },
     "execution_count": 34,
     "metadata": {},
     "output_type": "execute_result"
    }
   ],
   "source": [
    "pd.read_csv(DATA_DIR + 'sample_submission.csv')"
   ]
  },
  {
   "cell_type": "markdown",
   "id": "a2bb297f",
   "metadata": {
    "papermill": {
     "duration": 0.016586,
     "end_time": "2025-03-02T05:19:02.739609",
     "exception": false,
     "start_time": "2025-03-02T05:19:02.723023",
     "status": "completed"
    },
    "tags": []
   },
   "source": [
    "このファイルは予測結果の列: pred にはランダムな値が入っていますが提出ファイルとして完全にフォーマットが整っています。\n",
    "\n",
    "このファイルの pred を実際の予測結果で置き換えてしまってそれを提出するのが一番手っ取り早いです。"
   ]
  },
  {
   "cell_type": "code",
   "execution_count": 35,
   "id": "fe304f88",
   "metadata": {
    "execution": {
     "iopub.execute_input": "2025-03-02T05:19:02.773128Z",
     "iopub.status.busy": "2025-03-02T05:19:02.772726Z",
     "iopub.status.idle": "2025-03-02T05:19:02.790138Z",
     "shell.execute_reply": "2025-03-02T05:19:02.789292Z"
    },
    "papermill": {
     "duration": 0.036534,
     "end_time": "2025-03-02T05:19:02.792286",
     "exception": false,
     "start_time": "2025-03-02T05:19:02.755752",
     "status": "completed"
    },
    "tags": []
   },
   "outputs": [],
   "source": [
    "sample_sub = pd.read_csv(DATA_DIR + 'sample_submission.csv')\n",
    "\n",
    "pred = np.zeros(sample_sub.shape[0])\n",
    "\n",
    "for model in models:\n",
    "    pred += model.predict(test_merged[use_cols])\n",
    "\n",
    "pred /= len(models)\n",
    "\n",
    "sample_sub[\"pred\"] = pred"
   ]
  },
  {
   "cell_type": "code",
   "execution_count": 36,
   "id": "0ea1fc6d",
   "metadata": {
    "execution": {
     "iopub.execute_input": "2025-03-02T05:19:02.825958Z",
     "iopub.status.busy": "2025-03-02T05:19:02.825547Z",
     "iopub.status.idle": "2025-03-02T05:19:03.012178Z",
     "shell.execute_reply": "2025-03-02T05:19:03.011015Z"
    },
    "papermill": {
     "duration": 0.205312,
     "end_time": "2025-03-02T05:19:03.014069",
     "exception": false,
     "start_time": "2025-03-02T05:19:02.808757",
     "status": "completed"
    },
    "tags": []
   },
   "outputs": [
    {
     "data": {
      "image/png": "[encoded data removed]",
      "text/plain": [
       "<Figure size 640x480 with 1 Axes>"
      ]
     },
     "metadata": {},
     "output_type": "display_data"
    }
   ],
   "source": [
    "plt.hist(pred, bins=30)\n",
    "plt.show()"
   ]
  },
  {
   "cell_type": "markdown",
   "id": "2a730bb9",
   "metadata": {
    "papermill": {
     "duration": 0.015947,
     "end_time": "2025-03-02T05:19:03.047127",
     "exception": false,
     "start_time": "2025-03-02T05:19:03.031180",
     "status": "completed"
    },
    "tags": []
   },
   "source": [
    "あとはこれを保存して、提出すれば完了です！お疲れ様でした！"
   ]
  },
  {
   "cell_type": "code",
   "execution_count": 37,
   "id": "a716878c",
   "metadata": {
    "execution": {
     "iopub.execute_input": "2025-03-02T05:19:03.080545Z",
     "iopub.status.busy": "2025-03-02T05:19:03.080196Z",
     "iopub.status.idle": "2025-03-02T05:19:03.096329Z",
     "shell.execute_reply": "2025-03-02T05:19:03.095470Z"
    },
    "papermill": {
     "duration": 0.034848,
     "end_time": "2025-03-02T05:19:03.098144",
     "exception": false,
     "start_time": "2025-03-02T05:19:03.063296",
     "status": "completed"
    },
    "tags": []
   },
   "outputs": [],
   "source": [
    "sample_sub.to_csv(\"submission.csv\", index=False)"
   ]
  },
  {
   "cell_type": "markdown",
   "id": "790b3ed8",
   "metadata": {
    "papermill": {
     "duration": 0.015842,
     "end_time": "2025-03-02T05:19:03.130446",
     "exception": false,
     "start_time": "2025-03-02T05:19:03.114604",
     "status": "completed"
    },
    "tags": []
   },
   "source": [
    "## What's Next?\n",
    "\n",
    "このノートブックでは、repo.csv から得られる star と file の情報だけを使いました。\n",
    "\n",
    "\n",
    "しかし、コミットのデータや issue, pull requests のデータは間違いなく役に立つものなので、まずはこのあたりのデータからいけそうなものを使うのがいいでしょう。\n",
    "\n",
    "\n",
    "ただし、これらはサイズも大きいので、うまく部分的に利用していくと良さそうです。\n",
    "\n",
    "\n",
    "特にコミットのデータは大きいですから、10%・1% 単にランダムにサンプリングしたものもあります。これらも活用してみてください。\n",
    "\n",
    "\n",
    "---\n",
    "\n",
    "データなどについて質問があれば Discussion を立ててもらうか Slack に書いてください。\n",
    "\n",
    "また、実装で困った場合の質問には答えられるので、気軽に質問してください 🙌\n",
    "\n",
    "以下のような質問には答えられます！\n",
    "\n",
    "- {具体的な処理の内容} を実装したいが、どのようにやればいいのかわからない\n",
    "- {具体的なアルゴリズム} を使いたいが、ライブラリを知らない\n",
    "- エラーが解決できなくて困った！\n",
    "\n",
    "逆に、例えば\n",
    "\n",
    "- こういう気持ちを反映させたデータの加工をしたいけど、具体的にどういうことをすればいいか教えてほしい\n",
    "\n",
    "というようなアイデアを含む質問は答えられません！\n",
    "が、とりあえず聞いてもらえたら答えられるかどうかを含めて回答するので、とりあえず投げることをお勧めします！\n",
    "\n",
    "(そして、ChatGPT は心強い実装のお供なことも忘れずに)\n",
    "\n",
    "\n",
    "### それでは、優勝目指して 1週間がんばりましょう！🏃‍♀️💨"
   ]
  }
 ],
 "metadata": {
  "kaggle": {
   "accelerator": "none",
   "dataSources": [
    {
     "databundleVersionId": 11259099,
     "sourceId": 94084,
     "sourceType": "competition"
    }
   ],
   "dockerImageVersionId": 30918,
   "isGpuEnabled": false,
   "isInternetEnabled": true,
   "language": "python",
   "sourceType": "notebook"
  },
  "kernelspec": {
   "display_name": "Python 3",
   "language": "python",
   "name": "python3"
  },
  "language_info": {
   "codemirror_mode": {
    "name": "ipython",
    "version": 3
   },
   "file_extension": ".py",
   "mimetype": "text/x-python",
   "name": "python",
   "nbconvert_exporter": "python",
   "pygments_lexer": "ipython3",
   "version": "3.10.12"
  },
  "papermill": {
   "default_parameters": {},
   "duration": 46.752935,
   "end_time": "2025-03-02T05:19:04.167896",
   "environment_variables": {},
   "exception": null,
   "input_path": "__notebook__.ipynb",
   "output_path": "__notebook__.ipynb",
   "parameters": {},
   "start_time": "2025-03-02T05:18:17.414961",
   "version": "2.6.0"
  }
 },
 "nbformat": 4,
 "nbformat_minor": 5
}
