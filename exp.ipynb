import numpy as np
from sklearn.model_selection import KFold # 交差検証用ライブラリ
import lightgbm as lgb # 勾配ブースティング木で学習してくれるやつ

def train_fold(train_X: pd.DataFrame, train_y: pd.Series, valid_X: pd.DataFrame, valid_y: pd.Series) -> lgb.Booster:
    # GBDT の学習のためにデータを変換したうえで、学習を実行する関数
    lgb_train = lgb.Dataset(train_X, train_y)
    lgb_valid = lgb.Dataset(valid_X, valid_y, reference=lgb_train)
    params = {
        'objective': 'binary',
        'metric': ['auc', 'accuracy'],
    }
    model = lgb.train(params, lgb_train, valid_sets=[lgb_valid], callbacks=[lgb.early_stopping(100, first_metric_only=True)])
    return model

models = []
kf = KFold(n_splits=4, shuffle=True, random_state=20) # 4分割交差検証

for train_index, valid_index in kf.split(train): # kf.split(train) は長さ 4 の配列
    # 各 train_index と valid_index は、それぞれ全データの中から訓練用・テスト用に分けられた index の配列
    train_data = train_merged.iloc[train_index]
    valid_data = train.iloc[valid_index]

    train_X = train_data[use_cols]
    train_y = train_data[target_col] # それぞれ学習に使うフィールド、予測したいフィールド
    valid_X = valid_data[use_cols]
    valid_y = valid_data[target_col]

    model = train_fold(train_X, train_y, valid_X, valid_y)
    models.append(model) # 長さ 4 の配列 models ができる
