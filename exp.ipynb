{
 "cells": [
  {
   "cell_type": "markdown",
   "metadata": {},
   "source": [
    "## データの読み込み"
   ]
  },
  {
   "cell_type": "code",
   "execution_count": null,
   "metadata": {},
   "outputs": [
    {
     "name": "stdout",
     "output_type": "stream",
     "text": [
      "train_columns: Index(['repo_id', 'owner', 'repo', 'active'], dtype='object')\n",
      "test_columns: Index(['repo_id', 'owner', 'repo'], dtype='object')\n",
      "repo_columns: Index(['repo_id', 'stars', 'files'], dtype='object')\n",
      "commits_columns: Index(['commit', 'repo_names', 'parent', 'author_name', 'author_date',\n",
      "       'committer_date', 'author_timezonedelta', 'committer_timezonedelta',\n",
      "       'message'],\n",
      "      dtype='object')\n",
      "commits_repoids_columns: Index(['commit', 'repo_ids'], dtype='object')\n",
      "issues_columns: Index(['issue_id', 'repo_id', 'state', 'created_at', 'closed_at', 'opened_by',\n",
      "       'title', 'body'],\n",
      "      dtype='object')\n",
      "pulls_columns: Index(['pull_id', 'repo_id', 'state', 'created_at', 'closed_at', 'opened_by',\n",
      "       'title', 'body'],\n",
      "      dtype='object')\n"
     ]
    },
    {
     "data": {
      "text/plain": [
       "active\n",
       "False    2698\n",
       "True      985\n",
       "Name: count, dtype: int64"
      ]
     },
     "execution_count": 389,
     "metadata": {},
     "output_type": "execute_result"
    }
   ],
   "source": [
    "import pandas as pd\n",
    "DATA_DIR = 'tracon01/'\n",
    "\n",
    "train_init = pd.read_csv(DATA_DIR + 'train.csv')\n",
    "print(\"train_columns:\", train_init.columns)\n",
    "\n",
    "test_init = pd.read_csv(DATA_DIR + 'test.csv')\n",
    "print(\"test_columns:\", test_init.columns)\n",
    "\n",
    "repo = pd.read_csv(DATA_DIR + 'repo.csv')\n",
    "print(\"repo_columns:\", repo.columns)\n",
    "\n",
    "commits_init = pd.read_csv(DATA_DIR + \"commits_sampled_10.csv\") # commits_full にして有意にスコアが上がるわけではない\n",
    "print(\"commits_columns:\", commits_init.columns)\n",
    "\n",
    "commit_repoids = pd.read_csv(DATA_DIR + \"commits_sampled_10_repoids.csv\")\n",
    "print(\"commits_repoids_columns:\", commit_repoids.columns)\n",
    "\n",
    "issues = pd.read_csv(DATA_DIR + \"issues.csv\")\n",
    "print(\"issues_columns:\", issues.columns)\n",
    "\n",
    "pulls = pd.read_csv(DATA_DIR + \"pulls.csv\")\n",
    "print(\"pulls_columns:\", pulls.columns)\n",
    "\n",
    "train_init['active'].value_counts()"
   ]
  },
  {
   "cell_type": "markdown",
   "metadata": {},
   "source": [
    "## データの処理と選定"
   ]
  },
  {
   "cell_type": "code",
   "execution_count": 390,
   "metadata": {},
   "outputs": [],
   "source": [
    "from datetime import datetime as dt"
   ]
  },
  {
   "cell_type": "markdown",
   "metadata": {},
   "source": [
    "### コミット情報のデータフレーム作成"
   ]
  },
  {
   "cell_type": "code",
   "execution_count": null,
   "metadata": {},
   "outputs": [
    {
     "name": "stdout",
     "output_type": "stream",
     "text": [
      "2027-12-07 10:47:00\n",
      "2023-06-11 08:50:29\n",
      "2027-12-07 10:47:00\n",
      "2022-12-23 14:43:27\n",
      "2027-12-07 10:47:00\n",
      "2022-02-02 14:36:15\n",
      "nan\n",
      "nan\n",
      "2030-08-14 07:56:40\n",
      "2037-04-25 08:08:26\n"
     ]
    }
   ],
   "source": [
    "repo_commit_count = {}\n",
    "repo_latest_commit_date = {} # 2022-01-01 との差をとったほうがいい結果が出る。指数、対数をとることに効果は見られなかった\n",
    "repo_commit_members = {}\n",
    "repo_commit_mes_length = {} # コミットメッセージ合計長\n",
    "repo_commit_mes_avelength = {}\n",
    "\n",
    "commits = commits_init.merge(commit_repoids, on=\"commit\", how=\"left\")\n",
    "\n",
    "for row in commits.itertuples():\n",
    "    try:\n",
    "        date = dt.strptime(row.author_date, \"%Y-%m-%d %H:%M:%S\").timestamp()\n",
    "        if date > dt.strptime(\"2022-01-01 00:00:00\", \"%Y-%m-%d %H:%M:%S\").timestamp():\n",
    "            print(row.author_date)\n",
    "            date = dt.strptime(\"2020-01-01 00:00:00\", \"%Y-%m-%d %H:%M:%S\").timestamp()\n",
    "    except TypeError:\n",
    "        print(row.author_date)\n",
    "        date = dt.strptime(\"2020-01-01 00:00:00\", \"%Y-%m-%d %H:%M:%S\").timestamp()\n",
    "\n",
    "    for repo_id in eval(row.repo_ids): # コミットに対象のリポジトリが複数あるってどういうことだ？\n",
    "        repo_commit_count[repo_id] = repo_commit_count.get(repo_id, 0) + 1 # 1追加\n",
    "        repo_latest_commit_date[repo_id] = max(repo_latest_commit_date.get(repo_id, 0), date)\n",
    "        if repo_id not in repo_commit_members:\n",
    "            repo_commit_members[repo_id] = {}\n",
    "        repo_commit_members[repo_id][row.author_name] = repo_commit_members[repo_id].get(row.author_name, 0) + 1\n",
    "        # type(row.message) が float なことがあるのはなぜ？\n",
    "        repo_commit_mes_length[repo_id] = repo_commit_mes_length.get(repo_id, 0) + len(str(row.message))\n",
    "\n",
    "# コミットメッセージの平均長さを計算\n",
    "for repo_id in repo_commit_mes_length.keys():\n",
    "    repo_commit_mes_avelength[repo_id] = repo_commit_mes_length[repo_id] / repo_commit_count[repo_id]\n",
    "\n",
    "cutoff = dt.strptime(\"2022-01-01 00:00:00\", \"%Y-%m-%d %H:%M:%S\").timestamp()\n",
    "for repo_id in repo_latest_commit_date.keys():\n",
    "    repo_latest_commit_date[repo_id] = cutoff - repo_latest_commit_date[repo_id]\n",
    "\n",
    "# データフレームへの変換\n",
    "repo_commit_count_df = pd.DataFrame(\n",
    "    {\"repo_id\": repo_commit_count.keys(), \"n_commits\": repo_commit_count.values()}\n",
    ")\n",
    "repo_latest_commit_date_df = pd.DataFrame(\n",
    "    {\"repo_id\": repo_latest_commit_date.keys(), \"latest_commit_date\": repo_latest_commit_date.values()}\n",
    ")\n",
    "repo_commit_members_df = pd.DataFrame(\n",
    "    {\"repo_id\": repo_commit_members.keys(), \"n_commit_members\": [len(e) for e in repo_commit_members.values()]}\n",
    ")\n",
    "repo_commit_mes_length_df = pd.DataFrame(\n",
    "    {\"repo_id\": repo_commit_members.keys(), \"commit_mes_length\": repo_commit_mes_length.values()}\n",
    ")\n",
    "repo_commit_mes_avelength_df = pd.DataFrame(\n",
    "    {\"repo_id\": repo_commit_members.keys(), \"commit_mes_avelength\": repo_commit_mes_avelength.values()}\n",
    ")"
   ]
  },
  {
   "cell_type": "markdown",
   "metadata": {},
   "source": [
    "### イシュー情報のデータフレーム作成"
   ]
  },
  {
   "cell_type": "code",
   "execution_count": 408,
   "metadata": {},
   "outputs": [],
   "source": [
    "issue_count = {}\n",
    "issue_openers = {}\n",
    "latest_issue_date = {}\n",
    "\n",
    "# commits_sampled_10 に対応する issue の中では、なぜか losed の issue が 6 件しかないという偏りが生じていそう\n",
    "\n",
    "for row in issues.itertuples():\n",
    "    issue_count[row.repo_id] = issue_count.get(row.repo_id, 0) + 1\n",
    "    date =  dt.fromisoformat(row.created_at).timestamp()\n",
    "    latest_issue_date[row.repo_id] = max(latest_issue_date.get(row.repo_id, 0), date)\n",
    "    if row.repo_id not in issue_openers:\n",
    "        issue_openers[row.repo_id] = {}\n",
    "    issue_openers[row.repo_id][row.opened_by] = issue_openers[row.repo_id].get(row.opened_by, 0) + 1\n",
    "    # if row.state != \"open\":\n",
    "    #     print(row.state)\n",
    "\n",
    "cutoff = dt.strptime(\"2022-01-01 00:00:00\", \"%Y-%m-%d %H:%M:%S\").timestamp()\n",
    "for repo_id in latest_issue_date.keys():\n",
    "    latest_issue_date[repo_id] = cutoff - latest_issue_date[repo_id]\n",
    "\n",
    "issue_count_df = pd.DataFrame(\n",
    "    {\"repo_id\": issue_count.keys(), \"n_issues\": issue_count.values()}\n",
    ")\n",
    "issue_openers_df = pd.DataFrame(\n",
    "    {\"repo_id\": issue_openers.keys(), \"n_issue_openers\": [len(e) for e in issue_openers.values()]}\n",
    ")\n",
    "latest_issue_date_df = pd.DataFrame(\n",
    "    {\"repo_id\": latest_issue_date.keys(), \"latest_issue_date\": latest_issue_date.values()}\n",
    ")"
   ]
  },
  {
   "cell_type": "markdown",
   "metadata": {},
   "source": [
    "### プルリクエスト情報のデータフレーム作成"
   ]
  },
  {
   "cell_type": "code",
   "execution_count": 409,
   "metadata": {},
   "outputs": [],
   "source": [
    "pull_count = {}\n",
    "latest_pull_date = {}\n",
    "\n",
    "# commits_sampled_10 に対応するプルリクエストに至っては closed が 1 件もない\n",
    "\n",
    "for row in pulls.itertuples():\n",
    "    pull_count[row.repo_id] = pull_count.get(row.repo_id, 0) + 1\n",
    "    # date = dt.strptime(row.created_at[:-6], \"%Y-%m-%d %H:%M:%S\").timestamp()\n",
    "    date = dt.fromisoformat(row.created_at).timestamp()\n",
    "    latest_pull_date[row.repo_id] = max(latest_pull_date.get(row.repo_id, 0), date)\n",
    "    # if row.state != \"open\":\n",
    "    #     print(row.state)\n",
    "\n",
    "cutoff = dt.strptime(\"2022-01-01 00:00:00\", \"%Y-%m-%d %H:%M:%S\").timestamp()\n",
    "for repo_id in latest_pull_date.keys():\n",
    "    latest_pull_date[repo_id] = cutoff - latest_pull_date[repo_id]\n",
    "\n",
    "pull_count_df = pd.DataFrame(\n",
    "    {\"repo_id\": pull_count.keys(), \"n_pulls\": pull_count.values()}\n",
    ")\n",
    "latest_pull_date_df = pd.DataFrame(\n",
    "    {\"repo_id\": latest_pull_date.keys(), \"latest_pull_date\": latest_pull_date.values()}\n",
    ")"
   ]
  },
  {
   "cell_type": "markdown",
   "metadata": {},
   "source": [
    "### マージと選定"
   ]
  },
  {
   "cell_type": "code",
   "execution_count": null,
   "metadata": {},
   "outputs": [],
   "source": [
    "train = train_init.copy(deep=True)\n",
    "test = test_init.copy(deep=True)\n",
    "\n",
    "train = train.merge(repo, on='repo_id', how='left')\n",
    "test = test.merge(repo, on='repo_id', how='left')\n",
    "\n",
    "train[\"n_stars\"] = train[\"stars\"].apply(lambda s: s.count(','))\n",
    "test[\"n_stars\"] = test[\"stars\"].apply(lambda s: s.count(','))\n",
    "\n",
    "train[\"n_files\"] = train[\"files\"].apply(lambda s: s.count(','))\n",
    "test[\"n_files\"] = test[\"files\"].apply(lambda s: s.count(','))\n",
    "\n",
    "# コミット関係\n",
    "\n",
    "train = train.merge(repo_commit_count_df, on=\"repo_id\", how=\"left\")\n",
    "test = test.merge(repo_commit_count_df, on=\"repo_id\", how=\"left\")\n",
    "\n",
    "train = train.merge(repo_latest_commit_date_df, on=\"repo_id\", how=\"left\")\n",
    "test = test.merge(repo_latest_commit_date_df, on=\"repo_id\", how=\"left\")\n",
    "\n",
    "train = train.merge(repo_commit_members_df, on=\"repo_id\", how=\"left\")\n",
    "test = test.merge(repo_commit_members_df, on=\"repo_id\", how=\"left\")\n",
    "\n",
    "train = train.merge(repo_commit_mes_length_df, on=\"repo_id\", how=\"left\")\n",
    "test = test.merge(repo_commit_mes_length_df, on=\"repo_id\", how=\"left\")\n",
    "\n",
    "train = train.merge(repo_commit_mes_avelength_df, on=\"repo_id\", how=\"left\")\n",
    "test = test.merge(repo_commit_mes_avelength_df, on=\"repo_id\", how=\"left\")\n",
    "\n",
    "# プルリクエスト関係\n",
    "\n",
    "train = train.merge(pull_count_df, on=\"repo_id\", how=\"left\")\n",
    "test = test.merge(pull_count_df, on=\"repo_id\", how=\"left\")\n",
    "\n",
    "train = train.merge(latest_pull_date_df, on=\"repo_id\", how=\"left\")\n",
    "test = test.merge(latest_pull_date_df, on=\"repo_id\", how=\"left\")\n",
    "\n",
    "# イシュー関係\n",
    "\n",
    "train = train.merge(issue_count_df, on=\"repo_id\", how=\"left\")\n",
    "test = test.merge(issue_count_df, on=\"repo_id\", how=\"left\")\n",
    "\n",
    "train = train.merge(issue_openers_df, on=\"repo_id\", how=\"left\")\n",
    "test = test.merge(issue_openers_df, on=\"repo_id\", how=\"left\")\n",
    "\n",
    "train = train.merge(latest_issue_date_df, on=\"repo_id\", how=\"left\")\n",
    "test = test.merge(latest_issue_date_df, on=\"repo_id\", how=\"left\")\n",
    "\n",
    "use_cols = [\"latest_commit_date\", \"latest_issue_date\", \"latest_pull_date\"]\n",
    "use_cols = use_cols + [\"n_stars\", \"n_commits\", \"n_pulls\", \"n_issues\", \"commit_mes_length\"]\n",
    "# use_cols = use_cols + [\"n_stars\", \"n_commits\", \"n_pulls\", \"commit_mes_length\"]\n",
    "target_col = \"active\""
   ]
  },
  {
   "cell_type": "markdown",
   "metadata": {},
   "source": [
    "## 学習"
   ]
  },
  {
   "cell_type": "code",
   "execution_count": 422,
   "metadata": {},
   "outputs": [
    {
     "name": "stdout",
     "output_type": "stream",
     "text": [
      "[LightGBM] [Info] Number of positive: 735, number of negative: 2027\n",
      "[LightGBM] [Info] Auto-choosing col-wise multi-threading, the overhead of testing was 0.000261 seconds.\n",
      "You can set `force_col_wise=true` to remove the overhead.\n",
      "[LightGBM] [Info] Total Bins 1783\n",
      "[LightGBM] [Info] Number of data points in the train set: 2762, number of used features: 7\n",
      "[LightGBM] [Info] [binary:BoostFromScore]: pavg=0.266112 -> initscore=-1.014442\n",
      "[LightGBM] [Info] Start training from score -1.014442\n",
      "Training until validation scores don't improve for 100 rounds\n",
      "Did not meet early stopping. Best iteration is:\n",
      "[18]\tvalid_0's auc: 0.944626\n",
      "Evaluated only: auc\n",
      "[LightGBM] [Info] Number of positive: 730, number of negative: 2032\n",
      "[LightGBM] [Info] Auto-choosing col-wise multi-threading, the overhead of testing was 0.000371 seconds.\n",
      "You can set `force_col_wise=true` to remove the overhead.\n",
      "[LightGBM] [Info] Total Bins 1785\n",
      "[LightGBM] [Info] Number of data points in the train set: 2762, number of used features: 7\n",
      "[LightGBM] [Info] [binary:BoostFromScore]: pavg=0.264301 -> initscore=-1.023731\n",
      "[LightGBM] [Info] Start training from score -1.023731\n",
      "Training until validation scores don't improve for 100 rounds\n",
      "Did not meet early stopping. Best iteration is:\n",
      "[16]\tvalid_0's auc: 0.948625\n",
      "Evaluated only: auc\n",
      "[LightGBM] [Info] Number of positive: 739, number of negative: 2023\n",
      "[LightGBM] [Info] Auto-choosing col-wise multi-threading, the overhead of testing was 0.000082 seconds.\n",
      "You can set `force_col_wise=true` to remove the overhead.\n",
      "[LightGBM] [Info] Total Bins 1785\n",
      "[LightGBM] [Info] Number of data points in the train set: 2762, number of used features: 7\n",
      "[LightGBM] [Info] [binary:BoostFromScore]: pavg=0.267560 -> initscore=-1.007039\n",
      "[LightGBM] [Info] Start training from score -1.007039\n",
      "Training until validation scores don't improve for 100 rounds\n",
      "Did not meet early stopping. Best iteration is:\n",
      "[33]\tvalid_0's auc: 0.940915\n",
      "Evaluated only: auc\n",
      "[LightGBM] [Info] Number of positive: 751, number of negative: 2012\n",
      "[LightGBM] [Info] Auto-choosing col-wise multi-threading, the overhead of testing was 0.000068 seconds.\n",
      "You can set `force_col_wise=true` to remove the overhead.\n",
      "[LightGBM] [Info] Total Bins 1785\n",
      "[LightGBM] [Info] Number of data points in the train set: 2763, number of used features: 7\n",
      "[LightGBM] [Info] [binary:BoostFromScore]: pavg=0.271806 -> initscore=-0.985479\n",
      "[LightGBM] [Info] Start training from score -0.985479\n",
      "Training until validation scores don't improve for 100 rounds\n",
      "Did not meet early stopping. Best iteration is:\n",
      "[21]\tvalid_0's auc: 0.936944\n",
      "Evaluated only: auc\n"
     ]
    }
   ],
   "source": [
    "import numpy as np\n",
    "from sklearn.model_selection import KFold # 交差検証用ライブラリ\n",
    "import lightgbm as lgb # 勾配ブースティング木で学習してくれるやつ\n",
    "\n",
    "def train_fold(train_X: pd.DataFrame, train_y: pd.Series, valid_X: pd.DataFrame, valid_y: pd.Series) -> lgb.Booster:\n",
    "    # GBDT の学習のためにデータを変換したうえで、学習を実行する関数\n",
    "    lgb_train = lgb.Dataset(train_X, train_y)\n",
    "    lgb_valid = lgb.Dataset(valid_X, valid_y, reference=lgb_train)\n",
    "    params = {\n",
    "        'objective': 'binary',\n",
    "        'metric': ['auc', 'accuracy'],\n",
    "    }\n",
    "    model = lgb.train(params, lgb_train, valid_sets=[lgb_valid], callbacks=[lgb.early_stopping(100, first_metric_only=True)])\n",
    "    return model\n",
    "\n",
    "models = []\n",
    "kf = KFold(n_splits=4, shuffle=True, random_state=20) # 4分割交差検証。random_state 引数を省略すると意味わからんスコアになる\n",
    "\n",
    "for train_index, valid_index in kf.split(train): # kf.split(train) は長さ 4 の配列\n",
    "    # 各 train_index と valid_index は、それぞれ全データの中から訓練用・テスト用に分けられた index の配列\n",
    "    train_data = train.iloc[train_index]\n",
    "    valid_data = train.iloc[valid_index]\n",
    "\n",
    "    train_X = train_data[use_cols]\n",
    "    train_y = train_data[target_col] # それぞれ学習に使うフィールド、予測したいフィールド\n",
    "    valid_X = valid_data[use_cols]\n",
    "    valid_y = valid_data[target_col]\n",
    "\n",
    "    model = train_fold(train_X, train_y, valid_X, valid_y)\n",
    "    models.append(model) # 長さ 4 の配列 models ができる"
   ]
  },
  {
   "cell_type": "markdown",
   "metadata": {},
   "source": [
    "## Valid の予測"
   ]
  },
  {
   "cell_type": "code",
   "execution_count": 423,
   "metadata": {},
   "outputs": [],
   "source": [
    "oof_pred = np.zeros(len(train)) # 単に train と同じ長さの 0 で初期化された配列を作る\n",
    "for i, (train_index, valid_index) in enumerate(kf.split(train)):\n",
    "    valid_data = train.iloc[valid_index]\n",
    "    valid_X = valid_data[use_cols] # バリデーションに使うデータの中で、予測の材料となるフィールドの行\n",
    "    oof_pred[valid_index] = models[i].predict(valid_X)\n",
    "    # この瞬間に oof_pred は valid_index だけに予測結果が入る\n",
    "\n",
    "# 4回異なる valid_index で実行することで、ちょうどぴったり oof_pred の全ての要素が埋まる"
   ]
  },
  {
   "cell_type": "markdown",
   "metadata": {},
   "source": [
    "## 用語の補足\n",
    "\n",
    "- TPR は「正しく(True) ポジティブと判定された（Positive）割合 (Rate)」\n",
    "- FPR は「誤って(False)ポジティブと判定された（Positive）割合 (Rate)」\n",
    "- TNR は 1 - FPR、FNR は 1 - TPR で求められる。これで表が埋まる\n",
    "\n",
    "今回の Positive は「リポジトリがアクティブである」という命題かな\\\n",
    "モデルは Positive か Negative かを予測するが、本来の予測結果は確率なので 0 ~ 1 の実数値をとる\\\n",
    "0.5 以上で「モデルは Positive と判定した」ことにできるし、0.3 以上とすることもできる\\\n",
    "この閾値をいろいろ変えたとき、TPR と FPR がどう変動するかを変えたときのグラフが ROC 曲線\n",
    "\n",
    "また、ROC 曲線の下側の面積が AUC。つまり、ある閾値における一致率 Accuracy よりも一般的にモデルの評価ができる\\\n",
    "ROC 曲線が一番張り出して（0, 0）→ (0, 1) → (1, 1) という折れ線であるときこのモデルは完璧、ということになる"
   ]
  },
  {
   "cell_type": "markdown",
   "metadata": {},
   "source": [
    "## 予測精度の可視化"
   ]
  },
  {
   "cell_type": "code",
   "execution_count": 424,
   "metadata": {},
   "outputs": [
    {
     "name": "stdout",
     "output_type": "stream",
     "text": [
      "0.9386471648485625\n"
     ]
    },
    {
     "data": {
      "image/png": "[encoded data removed]",
      "text/plain": [
       "<Figure size 800x600 with 1 Axes>"
      ]
     },
     "metadata": {},
     "output_type": "display_data"
    }
   ],
   "source": [
    "import matplotlib.pyplot as plt\n",
    "from sklearn.metrics import roc_auc_score, roc_curve\n",
    "\n",
    "score = roc_auc_score(train[\"active\"], oof_pred)\n",
    "print(score)\n",
    "\n",
    "# ROC 曲線のプロット\n",
    "fpr, tpr, thresholds = roc_curve(train[\"active\"], oof_pred)\n",
    "\n",
    "plt.figure(figsize=(8, 6))\n",
    "plt.plot(fpr, tpr, label=f'ROC Curve (AUC = {score}')\n",
    "plt.plot([0, 1], [0, 1], linestyle='--', color='gray')\n",
    "plt.xlabel(\"False Positive Rate\")\n",
    "plt.ylabel(\"True Positive Rate\")\n",
    "plt.title(\"ROC Curve\")\n",
    "plt.legend()\n",
    "plt.grid()\n",
    "plt.show()"
   ]
  },
  {
   "cell_type": "markdown",
   "metadata": {},
   "source": [
    "## 特徴量の重要性評価"
   ]
  },
  {
   "cell_type": "code",
   "execution_count": 425,
   "metadata": {},
   "outputs": [
    {
     "name": "stderr",
     "output_type": "stream",
     "text": [
      "/opt/anaconda3/lib/python3.11/site-packages/seaborn/categorical.py:1794: FutureWarning: use_inf_as_na option is deprecated and will be removed in a future version. Convert inf values to NaN before operating instead.\n",
      "  with pd.option_context('mode.use_inf_as_na', True):\n",
      "/opt/anaconda3/lib/python3.11/site-packages/seaborn/categorical.py:1794: FutureWarning: use_inf_as_na option is deprecated and will be removed in a future version. Convert inf values to NaN before operating instead.\n",
      "  with pd.option_context('mode.use_inf_as_na', True):\n",
      "/opt/anaconda3/lib/python3.11/site-packages/seaborn/categorical.py:1794: FutureWarning: use_inf_as_na option is deprecated and will be removed in a future version. Convert inf values to NaN before operating instead.\n",
      "  with pd.option_context('mode.use_inf_as_na', True):\n",
      "/opt/anaconda3/lib/python3.11/site-packages/seaborn/categorical.py:1794: FutureWarning: use_inf_as_na option is deprecated and will be removed in a future version. Convert inf values to NaN before operating instead.\n",
      "  with pd.option_context('mode.use_inf_as_na', True):\n",
      "/opt/anaconda3/lib/python3.11/site-packages/seaborn/categorical.py:1794: FutureWarning: use_inf_as_na option is deprecated and will be removed in a future version. Convert inf values to NaN before operating instead.\n",
      "  with pd.option_context('mode.use_inf_as_na', True):\n",
      "/opt/anaconda3/lib/python3.11/site-packages/seaborn/categorical.py:1794: FutureWarning: use_inf_as_na option is deprecated and will be removed in a future version. Convert inf values to NaN before operating instead.\n",
      "  with pd.option_context('mode.use_inf_as_na', True):\n",
      "/opt/anaconda3/lib/python3.11/site-packages/seaborn/categorical.py:1794: FutureWarning: use_inf_as_na option is deprecated and will be removed in a future version. Convert inf values to NaN before operating instead.\n",
      "  with pd.option_context('mode.use_inf_as_na', True):\n"
     ]
    },
    {
     "data": {
      "image/png": "[encoded data removed]",
      "text/plain": [
       "<Figure size 600x400 with 1 Axes>"
      ]
     },
     "metadata": {},
     "output_type": "display_data"
    }
   ],
   "source": [
    "import matplotlib.pyplot as plt\n",
    "import seaborn as sns\n",
    "\n",
    "# よくわからん…。けどまぁグラフの意味だけわかればいいか\n",
    "\n",
    "def plot_importance(models: list):\n",
    "    feature_importance = pd.DataFrame()\n",
    "    \n",
    "    for i, model in enumerate(models):\n",
    "        _df = pd.DataFrame()\n",
    "        _df['feature_importance'] = model.feature_importance()\n",
    "        _df['column'] = model.feature_name()\n",
    "        _df['fold'] = i + 1\n",
    "        feature_importance = pd.concat([feature_importance, _df], axis=0, ignore_index=True)\n",
    "\n",
    "    order = feature_importance.groupby('column').sum()[['feature_importance']].sort_values('feature_importance', ascending=False).index\n",
    "\n",
    "    plt.figure(figsize=(6, 4))\n",
    "    sns.boxenplot(data=feature_importance, x='feature_importance', y='column', order=order)\n",
    "    plt.title('feature importance')\n",
    "    plt.grid()\n",
    "    plt.show()\n",
    "\n",
    "plot_importance(models)\n",
    "\n",
    "# random_state を変えると結構貢献度も変わる"
   ]
  },
  {
   "cell_type": "markdown",
   "metadata": {},
   "source": [
    "## 実際のテストデータの予測"
   ]
  },
  {
   "cell_type": "code",
   "execution_count": null,
   "metadata": {},
   "outputs": [],
   "source": [
    "import datetime\n",
    "\n",
    "sample_sub = pd.read_csv(DATA_DIR + 'sample_submission.csv')\n",
    "pred = np.zeros(sample_sub.shape[0]) # sample_sub.shape[0] はつまり縦の長さ（= 1814）\n",
    "\n",
    "for model in models:\n",
    "    pred += model.predict(test[use_cols])\n",
    "\n",
    "pred /= len(models) # すべての要素を一気に 4 で割って平均値を得て、\n",
    "\n",
    "# pred += models[0].predict(test[use_cols]) # ちょっと下がる\n",
    "\n",
    "sample_sub[\"pred\"] = pred # それをサンプル提出データの \"pred\" 行に突っ込む\n",
    "sample_sub.to_csv(f\"output/{datetime.datetime.now()}.csv\", index=False)"
   ]
  }
 ],
 "metadata": {
  "kernelspec": {
   "display_name": "base",
   "language": "python",
   "name": "python3"
  },
  "language_info": {
   "codemirror_mode": {
    "name": "ipython",
    "version": 3
   },
   "file_extension": ".py",
   "mimetype": "text/x-python",
   "name": "python",
   "nbconvert_exporter": "python",
   "pygments_lexer": "ipython3",
   "version": "3.11.7"
  }
 },
 "nbformat": 4,
 "nbformat_minor": 2
}
